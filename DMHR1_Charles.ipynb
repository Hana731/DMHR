{
 "cells": [
  {
   "cell_type": "markdown",
   "metadata": {},
   "source": [
    "# Assignment A\n",
    "\n",
    "Background and Aim\n",
    "\n",
    "National Health Service (NHS)is health services including NHS England, Scotland, Wales and Northern Ireland. Each service provides a comprehensive range of health services, free at the point of use for people ordinarily resident in the United Kingdom (not including dental treatment and optical care). NHS publish Practice level prescribing data each month. The dataset contains list of all medicines, dressing and appliances which are prescribed by the practises in England and dispensed in the community. The NHS has been challenged to make ‘efficiency savings’, and we have been assigned to review the document and assess prescribing costs.\n",
    "\n",
    "Datasets:\n",
    "1.\tNHS Digital GP Practice Prescribing \n",
    "2.\tNHS Digital GP Practice Demographics\n",
    "\n",
    "(Each monthly data set is very large (over 10 million rows), it may occur unexpected problems by open it directly)\n",
    "\n",
    "\n",
    "Variables explanation: \n",
    "\n",
    "SHA/AT: this is code of the Strategic Health Authority (SHA) in which the practice resides (August 2010 to March 2013). From April 2013 this field relates to the Area Team.\n",
    "\n",
    "PCT/CCG: this relates to the Clinical Commissioning Group (CCG)\n",
    "\n",
    "Practice Code and names: This is code for the practice. It can potentially be used to linked to other data that uses the practice code as is defined by the NHS Digital Organisation Data Service (ODS). The format is Axxxxx where \"A\" is a letter and \"xxxxx\" is a 5-digit number.\n",
    "\n",
    "BNF code: The BNF code for the drug.\n",
    "\n",
    "BNF name: The drug is shown by individual preparation name, which may be proprietary or generic, followed by form and strength.\n",
    "\n",
    "Items: This gives the number of items for this presentation that were dispensed in the specified month. A prescription item refers to a single supply of a medicine, dressing or appliance prescribed on a prescription form. If a prescription form includes three medicines, it is counted as three prescription items.\n",
    "\n",
    "Net ingredient cost (NIC): This is the basic cost of a drug as used in primary care. This is the cost at list price excluding VAT, i.e. the price listed in the national Drug Tariff or in standard price lists and is not necessarily the price the NHS paid. It does not take into account of any contract prices or discounts, dispensing costs, fees or prescription charge income, so the amount the NHS paid will be different.\n",
    "\n",
    "Actual Cost: From July 2012 onwards, the formula used to calculate 'Actual Cost' has been changed to include the new reimbursement payments which will be charged back to practices from dispensed prescriptions.\n",
    "\n",
    "Quantity: The quantity of a drug dispensed is measured in units depending on the formulation of the product, which is given in the drug name. \n",
    "\n",
    "Processing date: The date is given as the year and month to which the file refers. \n",
    "\n",
    "Chemical name: This is the International Non-proprietary Name (INN) and is the standard registered name for the active constituent of that medicine, for example omeprazole.\n"
   ]
  },
  {
   "cell_type": "code",
   "execution_count": 1,
   "metadata": {},
   "outputs": [],
   "source": [
    "# import necessary libraries\n",
    "\n",
    "import pandas as pd \n",
    "import numpy as np\n",
    "import matplotlib.pyplot as plt\n",
    "%matplotlib inline\n",
    "import math"
   ]
  },
  {
   "cell_type": "markdown",
   "metadata": {},
   "source": [
    "# Q1. Identify all GP practices located in London. For those practices, describe: \n",
    "o the total number of patients registered\n",
    "o the total number of prescriptions\n",
    "o the total actual cost of these prescriptions (using the ACT COST column)\n",
    "o the top 10 most frequent drugs prescribed\n",
    "o the bottom 10 less frequent drugs prescribed"
   ]
  },
  {
   "cell_type": "markdown",
   "metadata": {},
   "source": [
    "We can see from the first Question is about all the GP practices located in London that is the premise.From the datasets, we need to extra all GPs in London first. We use NHS Digital GP Practice Demographics dataset to extract the GPs in London and combine with NHS Digital GP Practice Prescribing dataset via common key(practise code) to answer further questions. "
   ]
  },
  {
   "cell_type": "code",
   "execution_count": 2,
   "metadata": {},
   "outputs": [
    {
     "data": {
      "text/html": [
       "<div>\n",
       "<style scoped>\n",
       "    .dataframe tbody tr th:only-of-type {\n",
       "        vertical-align: middle;\n",
       "    }\n",
       "\n",
       "    .dataframe tbody tr th {\n",
       "        vertical-align: top;\n",
       "    }\n",
       "\n",
       "    .dataframe thead th {\n",
       "        text-align: right;\n",
       "    }\n",
       "</style>\n",
       "<table border=\"1\" class=\"dataframe\">\n",
       "  <thead>\n",
       "    <tr style=\"text-align: right;\">\n",
       "      <th></th>\n",
       "      <th>sha</th>\n",
       "      <th>pct</th>\n",
       "      <th>practice</th>\n",
       "      <th>bnf_code</th>\n",
       "      <th>bnf_name</th>\n",
       "      <th>items</th>\n",
       "      <th>nic</th>\n",
       "      <th>act_cost</th>\n",
       "      <th>quantity</th>\n",
       "      <th>period</th>\n",
       "    </tr>\n",
       "  </thead>\n",
       "  <tbody>\n",
       "    <tr>\n",
       "      <th>0</th>\n",
       "      <td>Q44</td>\n",
       "      <td>RTV</td>\n",
       "      <td>Y04937</td>\n",
       "      <td>0401010Z0AAAAAA</td>\n",
       "      <td>Zopiclone_Tab 7.5mg</td>\n",
       "      <td>6</td>\n",
       "      <td>1.56</td>\n",
       "      <td>2.12</td>\n",
       "      <td>63</td>\n",
       "      <td>201804</td>\n",
       "    </tr>\n",
       "    <tr>\n",
       "      <th>1</th>\n",
       "      <td>Q44</td>\n",
       "      <td>RTV</td>\n",
       "      <td>Y04937</td>\n",
       "      <td>0401020K0AAAHAH</td>\n",
       "      <td>Diazepam_Tab 2mg</td>\n",
       "      <td>4</td>\n",
       "      <td>0.87</td>\n",
       "      <td>1.15</td>\n",
       "      <td>73</td>\n",
       "      <td>201804</td>\n",
       "    </tr>\n",
       "    <tr>\n",
       "      <th>2</th>\n",
       "      <td>Q44</td>\n",
       "      <td>RTV</td>\n",
       "      <td>Y04937</td>\n",
       "      <td>0401020K0AAAIAI</td>\n",
       "      <td>Diazepam_Tab 5mg</td>\n",
       "      <td>2</td>\n",
       "      <td>0.46</td>\n",
       "      <td>0.56</td>\n",
       "      <td>35</td>\n",
       "      <td>201804</td>\n",
       "    </tr>\n",
       "    <tr>\n",
       "      <th>3</th>\n",
       "      <td>Q44</td>\n",
       "      <td>RTV</td>\n",
       "      <td>Y04937</td>\n",
       "      <td>0402010ABAAABAB</td>\n",
       "      <td>Quetiapine_Tab 25mg</td>\n",
       "      <td>1</td>\n",
       "      <td>2.60</td>\n",
       "      <td>2.52</td>\n",
       "      <td>14</td>\n",
       "      <td>201804</td>\n",
       "    </tr>\n",
       "    <tr>\n",
       "      <th>4</th>\n",
       "      <td>Q44</td>\n",
       "      <td>RTV</td>\n",
       "      <td>Y04937</td>\n",
       "      <td>0402010ADAAAAAA</td>\n",
       "      <td>Aripiprazole_Tab 10mg</td>\n",
       "      <td>1</td>\n",
       "      <td>1.53</td>\n",
       "      <td>1.53</td>\n",
       "      <td>14</td>\n",
       "      <td>201804</td>\n",
       "    </tr>\n",
       "  </tbody>\n",
       "</table>\n",
       "</div>"
      ],
      "text/plain": [
       "   sha  pct practice         bnf_code  \\\n",
       "0  Q44  RTV   Y04937  0401010Z0AAAAAA   \n",
       "1  Q44  RTV   Y04937  0401020K0AAAHAH   \n",
       "2  Q44  RTV   Y04937  0401020K0AAAIAI   \n",
       "3  Q44  RTV   Y04937  0402010ABAAABAB   \n",
       "4  Q44  RTV   Y04937  0402010ADAAAAAA   \n",
       "\n",
       "                                   bnf_name  items   nic  act_cost  quantity  \\\n",
       "0  Zopiclone_Tab 7.5mg                           6  1.56      2.12        63   \n",
       "1  Diazepam_Tab 2mg                              4  0.87      1.15        73   \n",
       "2  Diazepam_Tab 5mg                              2  0.46      0.56        35   \n",
       "3  Quetiapine_Tab 25mg                           1  2.60      2.52        14   \n",
       "4  Aripiprazole_Tab 10mg                         1  1.53      1.53        14   \n",
       "\n",
       "   period  \n",
       "0  201804  \n",
       "1  201804  \n",
       "2  201804  \n",
       "3  201804  \n",
       "4  201804  "
      ]
     },
     "execution_count": 2,
     "metadata": {},
     "output_type": "execute_result"
    }
   ],
   "source": [
    "#Read NHS Digital GP Practice Prescribing dataset and add new columns name to the dataframe(lower case and remove space for further manipulating)\n",
    "\n",
    "cols = ['sha', 'pct', 'practice', 'bnf_code', 'bnf_name', 'items', 'nic', 'act_cost', 'quantity', 'period']\n",
    "PDPI = pd.read_csv('/Users/charles/Desktop/T201804PDPI+BNFT.CSV', header=None, names=cols, index_col=False, skiprows=1).rename(columns=lambda x: x.strip())\n",
    "PDPI.head()\n"
   ]
  },
  {
   "cell_type": "code",
   "execution_count": 3,
   "metadata": {},
   "outputs": [
    {
     "data": {
      "text/html": [
       "<div>\n",
       "<style scoped>\n",
       "    .dataframe tbody tr th:only-of-type {\n",
       "        vertical-align: middle;\n",
       "    }\n",
       "\n",
       "    .dataframe tbody tr th {\n",
       "        vertical-align: top;\n",
       "    }\n",
       "\n",
       "    .dataframe thead th {\n",
       "        text-align: right;\n",
       "    }\n",
       "</style>\n",
       "<table border=\"1\" class=\"dataframe\">\n",
       "  <thead>\n",
       "    <tr style=\"text-align: right;\">\n",
       "      <th></th>\n",
       "      <th>201804</th>\n",
       "      <th>practice</th>\n",
       "      <th>center_name01</th>\n",
       "      <th>center_name02</th>\n",
       "      <th>addr01</th>\n",
       "      <th>addr02</th>\n",
       "      <th>addr03</th>\n",
       "      <th>post_code</th>\n",
       "    </tr>\n",
       "  </thead>\n",
       "  <tbody>\n",
       "    <tr>\n",
       "      <th>0</th>\n",
       "      <td>201804</td>\n",
       "      <td>A81001</td>\n",
       "      <td>THE DENSHAM SURGERY</td>\n",
       "      <td>THE HEALTH CENTRE</td>\n",
       "      <td>LAWSON STREET</td>\n",
       "      <td>STOCKTON-ON-TEES</td>\n",
       "      <td>CLEVELAND</td>\n",
       "      <td>TS18 1HU</td>\n",
       "    </tr>\n",
       "    <tr>\n",
       "      <th>1</th>\n",
       "      <td>201804</td>\n",
       "      <td>A81002</td>\n",
       "      <td>QUEENS PARK MEDICAL CENTRE</td>\n",
       "      <td>QUEENS PARK MEDICAL CTR</td>\n",
       "      <td>FARRER STREET</td>\n",
       "      <td>STOCKTON ON TEES</td>\n",
       "      <td>CLEVELAND</td>\n",
       "      <td>TS18 2AW</td>\n",
       "    </tr>\n",
       "    <tr>\n",
       "      <th>2</th>\n",
       "      <td>201804</td>\n",
       "      <td>A81004</td>\n",
       "      <td>BLUEBELL MEDICAL CENTRE</td>\n",
       "      <td>TRIMDON AVENUE</td>\n",
       "      <td>ACKLAM</td>\n",
       "      <td>MIDDLESBROUGH</td>\n",
       "      <td></td>\n",
       "      <td>TS5 8SB</td>\n",
       "    </tr>\n",
       "    <tr>\n",
       "      <th>3</th>\n",
       "      <td>201804</td>\n",
       "      <td>A81005</td>\n",
       "      <td>SPRINGWOOD SURGERY</td>\n",
       "      <td>SPRINGWOOD SURGERY</td>\n",
       "      <td>RECTORY LANE</td>\n",
       "      <td>GUISBOROUGH</td>\n",
       "      <td></td>\n",
       "      <td>TS14 7DJ</td>\n",
       "    </tr>\n",
       "    <tr>\n",
       "      <th>4</th>\n",
       "      <td>201804</td>\n",
       "      <td>A81006</td>\n",
       "      <td>TENNANT STREET MEDICAL PRACTICE</td>\n",
       "      <td>TENNANT ST MEDICAL PRACT</td>\n",
       "      <td>TENNANT STREET</td>\n",
       "      <td>STOCKTON-ON-TEES</td>\n",
       "      <td>CLEVELAND</td>\n",
       "      <td>TS18 2AT</td>\n",
       "    </tr>\n",
       "  </tbody>\n",
       "</table>\n",
       "</div>"
      ],
      "text/plain": [
       "   201804 practice                             center_name01  \\\n",
       "0  201804   A81001  THE DENSHAM SURGERY                        \n",
       "1  201804   A81002  QUEENS PARK MEDICAL CENTRE                 \n",
       "2  201804   A81004  BLUEBELL MEDICAL CENTRE                    \n",
       "3  201804   A81005  SPRINGWOOD SURGERY                         \n",
       "4  201804   A81006  TENNANT STREET MEDICAL PRACTICE            \n",
       "\n",
       "               center_name02                     addr01  \\\n",
       "0  THE HEALTH CENTRE          LAWSON STREET               \n",
       "1  QUEENS PARK MEDICAL CTR    FARRER STREET               \n",
       "2  TRIMDON AVENUE             ACKLAM                      \n",
       "3  SPRINGWOOD SURGERY         RECTORY LANE                \n",
       "4  TENNANT ST MEDICAL PRACT   TENNANT STREET              \n",
       "\n",
       "                      addr02                     addr03 post_code  \n",
       "0  STOCKTON-ON-TEES           CLEVELAND                  TS18 1HU  \n",
       "1  STOCKTON ON TEES           CLEVELAND                  TS18 2AW  \n",
       "2  MIDDLESBROUGH                                         TS5 8SB   \n",
       "3  GUISBOROUGH                                           TS14 7DJ  \n",
       "4  STOCKTON-ON-TEES           CLEVELAND                  TS18 2AT  "
      ]
     },
     "execution_count": 3,
     "metadata": {},
     "output_type": "execute_result"
    }
   ],
   "source": [
    "#Read NHS Digital GP Practice Demographics dataset and add new columns name to the dataframe(lower case and remove space for further manipulating)\n",
    "\n",
    "cols2 = ['201804', 'practice', 'center_name01', 'center_name02', 'addr01', 'addr02', 'addr03', 'post_code']\n",
    "ADDR = pd.read_csv('/Users/charles/Desktop/T201804ADDR+BNFT.CSV', header=None, names=cols2, index_col=False, skiprows=0).rename(columns=lambda x: x.strip())\n",
    "ADDR.head()"
   ]
  },
  {
   "cell_type": "code",
   "execution_count": 4,
   "metadata": {},
   "outputs": [
    {
     "data": {
      "text/html": [
       "<div>\n",
       "<style scoped>\n",
       "    .dataframe tbody tr th:only-of-type {\n",
       "        vertical-align: middle;\n",
       "    }\n",
       "\n",
       "    .dataframe tbody tr th {\n",
       "        vertical-align: top;\n",
       "    }\n",
       "\n",
       "    .dataframe thead th {\n",
       "        text-align: right;\n",
       "    }\n",
       "</style>\n",
       "<table border=\"1\" class=\"dataframe\">\n",
       "  <thead>\n",
       "    <tr style=\"text-align: right;\">\n",
       "      <th></th>\n",
       "      <th>PUBLICATION</th>\n",
       "      <th>EXTRACT_DATE</th>\n",
       "      <th>TYPE</th>\n",
       "      <th>CCG_CODE</th>\n",
       "      <th>ONS_CCG_CODE</th>\n",
       "      <th>CODE</th>\n",
       "      <th>POSTCODE</th>\n",
       "      <th>SEX</th>\n",
       "      <th>AGE</th>\n",
       "      <th>NUMBER_OF_PATIENTS</th>\n",
       "    </tr>\n",
       "  </thead>\n",
       "  <tbody>\n",
       "    <tr>\n",
       "      <th>3664</th>\n",
       "      <td>GP_PRAC_PAT_LIST</td>\n",
       "      <td>01APR2018</td>\n",
       "      <td>GP</td>\n",
       "      <td>07L</td>\n",
       "      <td>E38000004</td>\n",
       "      <td>Y04786</td>\n",
       "      <td>IG3 8YB</td>\n",
       "      <td>ALL</td>\n",
       "      <td>ALL</td>\n",
       "      <td>443</td>\n",
       "    </tr>\n",
       "    <tr>\n",
       "      <th>3665</th>\n",
       "      <td>GP_PRAC_PAT_LIST</td>\n",
       "      <td>01APR2018</td>\n",
       "      <td>GP</td>\n",
       "      <td>07M</td>\n",
       "      <td>E38000005</td>\n",
       "      <td>E83003</td>\n",
       "      <td>N20 0DH</td>\n",
       "      <td>ALL</td>\n",
       "      <td>ALL</td>\n",
       "      <td>8911</td>\n",
       "    </tr>\n",
       "    <tr>\n",
       "      <th>3666</th>\n",
       "      <td>GP_PRAC_PAT_LIST</td>\n",
       "      <td>01APR2018</td>\n",
       "      <td>GP</td>\n",
       "      <td>07M</td>\n",
       "      <td>E38000005</td>\n",
       "      <td>E83005</td>\n",
       "      <td>N3 2JP</td>\n",
       "      <td>ALL</td>\n",
       "      <td>ALL</td>\n",
       "      <td>6224</td>\n",
       "    </tr>\n",
       "    <tr>\n",
       "      <th>3667</th>\n",
       "      <td>GP_PRAC_PAT_LIST</td>\n",
       "      <td>01APR2018</td>\n",
       "      <td>GP</td>\n",
       "      <td>07M</td>\n",
       "      <td>E38000005</td>\n",
       "      <td>E83006</td>\n",
       "      <td>NW2 1HS</td>\n",
       "      <td>ALL</td>\n",
       "      <td>ALL</td>\n",
       "      <td>6885</td>\n",
       "    </tr>\n",
       "    <tr>\n",
       "      <th>3668</th>\n",
       "      <td>GP_PRAC_PAT_LIST</td>\n",
       "      <td>01APR2018</td>\n",
       "      <td>GP</td>\n",
       "      <td>07M</td>\n",
       "      <td>E38000005</td>\n",
       "      <td>E83007</td>\n",
       "      <td>N3 2AU</td>\n",
       "      <td>ALL</td>\n",
       "      <td>ALL</td>\n",
       "      <td>5706</td>\n",
       "    </tr>\n",
       "  </tbody>\n",
       "</table>\n",
       "</div>"
      ],
      "text/plain": [
       "           PUBLICATION EXTRACT_DATE TYPE CCG_CODE ONS_CCG_CODE    CODE  \\\n",
       "3664  GP_PRAC_PAT_LIST    01APR2018   GP      07L    E38000004  Y04786   \n",
       "3665  GP_PRAC_PAT_LIST    01APR2018   GP      07M    E38000005  E83003   \n",
       "3666  GP_PRAC_PAT_LIST    01APR2018   GP      07M    E38000005  E83005   \n",
       "3667  GP_PRAC_PAT_LIST    01APR2018   GP      07M    E38000005  E83006   \n",
       "3668  GP_PRAC_PAT_LIST    01APR2018   GP      07M    E38000005  E83007   \n",
       "\n",
       "     POSTCODE  SEX  AGE  NUMBER_OF_PATIENTS  \n",
       "3664  IG3 8YB  ALL  ALL                 443  \n",
       "3665  N20 0DH  ALL  ALL                8911  \n",
       "3666   N3 2JP  ALL  ALL                6224  \n",
       "3667  NW2 1HS  ALL  ALL                6885  \n",
       "3668   N3 2AU  ALL  ALL                5706  "
      ]
     },
     "execution_count": 4,
     "metadata": {},
     "output_type": "execute_result"
    }
   ],
   "source": [
    "# From the ADDR dataset, we can extra the GPs in London by either address or post_code. \n",
    "# We check the address(addr01:street addr02:city addr03:Province) to identify the GPs (practice code)in london. \n",
    "\n",
    "practice_London_addr = ADDR.practice[(ADDR.addr02.str.strip() == 'LONDON')|(ADDR.addr03.str.strip() == 'LONDON')]\n",
    "practice_London_addr.values\n",
    "practice_London_addr.count()\n",
    "\n",
    "# London GPs ( slicing London GPs via the practise code from GP_demograph)\n",
    "\n",
    "GP_demograph = pd.read_csv('/Users/charles/Desktop/gp-reg-pat-prac-all.csv')\n",
    "GP_common_code = list(practice_London_addr.values)\n",
    "GP_demograph_london = GP_demograph.loc[GP_demograph['CODE'].isin (GP_common_code)]\n",
    "GP_demograph_london.head()"
   ]
  },
  {
   "cell_type": "code",
   "execution_count": 5,
   "metadata": {},
   "outputs": [
    {
     "data": {
      "text/plain": [
       "5841956"
      ]
     },
     "execution_count": 5,
     "metadata": {},
     "output_type": "execute_result"
    }
   ],
   "source": [
    "#Register patients number\n",
    "\n",
    "GP_number = GP_demograph_london.NUMBER_OF_PATIENTS.sum()\n",
    "GP_number"
   ]
  },
  {
   "cell_type": "markdown",
   "metadata": {},
   "source": [
    "The total number of registered patients in London is 5841956."
   ]
  },
  {
   "cell_type": "code",
   "execution_count": 6,
   "metadata": {},
   "outputs": [
    {
     "data": {
      "text/plain": [
       "510136987"
      ]
     },
     "execution_count": 6,
     "metadata": {},
     "output_type": "execute_result"
    }
   ],
   "source": [
    "#The total number of prescriptions\n",
    "\n",
    "Prescriptions_london = PDPI.loc[PDPI['practice'].isin (GP_common_code)]\n",
    "Prescriptions_london.quantity.sum()"
   ]
  },
  {
   "cell_type": "markdown",
   "metadata": {},
   "source": [
    "The total number of prescriptions is 510136987."
   ]
  },
  {
   "cell_type": "code",
   "execution_count": 7,
   "metadata": {},
   "outputs": [
    {
     "data": {
      "text/plain": [
       "43322000.54"
      ]
     },
     "execution_count": 7,
     "metadata": {},
     "output_type": "execute_result"
    }
   ],
   "source": [
    "#The total actual cost of these prescriptions (using the ACT COST column)\n",
    "\n",
    "Prescriptions_COST_london = PDPI.loc[PDPI['practice'].isin (GP_common_code)]\n",
    "Prescriptions_COST_london.act_cost.sum()"
   ]
  },
  {
   "cell_type": "raw",
   "metadata": {},
   "source": [
    "# The total actual cost of these prescription is 43322000.54."
   ]
  },
  {
   "cell_type": "code",
   "execution_count": 60,
   "metadata": {},
   "outputs": [
    {
     "data": {
      "text/html": [
       "<div>\n",
       "<style scoped>\n",
       "    .dataframe tbody tr th:only-of-type {\n",
       "        vertical-align: middle;\n",
       "    }\n",
       "\n",
       "    .dataframe tbody tr th {\n",
       "        vertical-align: top;\n",
       "    }\n",
       "\n",
       "    .dataframe thead th {\n",
       "        text-align: right;\n",
       "    }\n",
       "</style>\n",
       "<table border=\"1\" class=\"dataframe\">\n",
       "  <thead>\n",
       "    <tr style=\"text-align: right;\">\n",
       "      <th></th>\n",
       "      <th>items</th>\n",
       "      <th>nic</th>\n",
       "      <th>act_cost</th>\n",
       "      <th>quantity</th>\n",
       "      <th>period</th>\n",
       "    </tr>\n",
       "    <tr>\n",
       "      <th>bnf_code</th>\n",
       "      <th></th>\n",
       "      <th></th>\n",
       "      <th></th>\n",
       "      <th></th>\n",
       "      <th></th>\n",
       "    </tr>\n",
       "  </thead>\n",
       "  <tbody>\n",
       "    <tr>\n",
       "      <th>090402000BBRRA0</th>\n",
       "      <td>4477</td>\n",
       "      <td>96281.92</td>\n",
       "      <td>91808.65</td>\n",
       "      <td>17023232</td>\n",
       "      <td>93838860</td>\n",
       "    </tr>\n",
       "    <tr>\n",
       "      <th>0601022B0AAABAB</th>\n",
       "      <td>121063</td>\n",
       "      <td>376329.40</td>\n",
       "      <td>353102.30</td>\n",
       "      <td>11706703</td>\n",
       "      <td>158819748</td>\n",
       "    </tr>\n",
       "    <tr>\n",
       "      <th>090402000BBAJA0</th>\n",
       "      <td>3655</td>\n",
       "      <td>58826.88</td>\n",
       "      <td>55067.39</td>\n",
       "      <td>10217184</td>\n",
       "      <td>62155632</td>\n",
       "    </tr>\n",
       "    <tr>\n",
       "      <th>0106040G0AAAAAA</th>\n",
       "      <td>17330</td>\n",
       "      <td>43081.00</td>\n",
       "      <td>40654.65</td>\n",
       "      <td>9283922</td>\n",
       "      <td>157205316</td>\n",
       "    </tr>\n",
       "    <tr>\n",
       "      <th>0407010H0AAAMAM</th>\n",
       "      <td>74463</td>\n",
       "      <td>75152.42</td>\n",
       "      <td>72891.70</td>\n",
       "      <td>7690436</td>\n",
       "      <td>158819748</td>\n",
       "    </tr>\n",
       "    <tr>\n",
       "      <th>130201000BBICBW</th>\n",
       "      <td>11641</td>\n",
       "      <td>81147.40</td>\n",
       "      <td>75401.83</td>\n",
       "      <td>6717500</td>\n",
       "      <td>155389080</td>\n",
       "    </tr>\n",
       "    <tr>\n",
       "      <th>090402000BBVTA0</th>\n",
       "      <td>1247</td>\n",
       "      <td>71311.05</td>\n",
       "      <td>66923.85</td>\n",
       "      <td>6565947</td>\n",
       "      <td>74062068</td>\n",
       "    </tr>\n",
       "    <tr>\n",
       "      <th>090402000BBRMA0</th>\n",
       "      <td>830</td>\n",
       "      <td>69577.20</td>\n",
       "      <td>65085.19</td>\n",
       "      <td>6556352</td>\n",
       "      <td>34912092</td>\n",
       "    </tr>\n",
       "    <tr>\n",
       "      <th>090402000BBSIA0</th>\n",
       "      <td>1166</td>\n",
       "      <td>63283.80</td>\n",
       "      <td>59344.98</td>\n",
       "      <td>5455500</td>\n",
       "      <td>55092492</td>\n",
       "    </tr>\n",
       "    <tr>\n",
       "      <th>0103050P0AAAAAA</th>\n",
       "      <td>123310</td>\n",
       "      <td>100130.28</td>\n",
       "      <td>98762.26</td>\n",
       "      <td>4665483</td>\n",
       "      <td>163663044</td>\n",
       "    </tr>\n",
       "  </tbody>\n",
       "</table>\n",
       "</div>"
      ],
      "text/plain": [
       "                  items        nic   act_cost  quantity     period\n",
       "bnf_code                                                          \n",
       "090402000BBRRA0    4477   96281.92   91808.65  17023232   93838860\n",
       "0601022B0AAABAB  121063  376329.40  353102.30  11706703  158819748\n",
       "090402000BBAJA0    3655   58826.88   55067.39  10217184   62155632\n",
       "0106040G0AAAAAA   17330   43081.00   40654.65   9283922  157205316\n",
       "0407010H0AAAMAM   74463   75152.42   72891.70   7690436  158819748\n",
       "130201000BBICBW   11641   81147.40   75401.83   6717500  155389080\n",
       "090402000BBVTA0    1247   71311.05   66923.85   6565947   74062068\n",
       "090402000BBRMA0     830   69577.20   65085.19   6556352   34912092\n",
       "090402000BBSIA0    1166   63283.80   59344.98   5455500   55092492\n",
       "0103050P0AAAAAA  123310  100130.28   98762.26   4665483  163663044"
      ]
     },
     "execution_count": 60,
     "metadata": {},
     "output_type": "execute_result"
    }
   ],
   "source": [
    "Prescriptions_sum_London=Prescriptions_london.groupby(['bnf_code']).sum()\n",
    "# the top 10 most frequent drugs prescribed\n",
    "\n",
    "Top_drug_sorted = Prescriptions_sum_London.sort_values('quantity',axis=0, ascending=False, kind='quicksort', na_position='last')\n",
    "Top_drug_top10_London = Top_drug_sorted.head(10)\n",
    "Top_drug_top10_London\n",
    "\n",
    "\n"
   ]
  },
  {
   "cell_type": "raw",
   "metadata": {},
   "source": [
    "The top 10 most frequent drugs prescribed are: \n",
    "\n",
    " 'Nutrison_800 Complete M/Fibre Liq       ',\n",
    " 'Nutrison_1000 Complete M/Fibre Liq      ',\n",
    " 'Methadone HCl_Oral Soln 1mg/1ml S/F     ',\n",
    " 'Fortisip Bottle_Liq (8 Flav)            ',\n",
    " 'Methadone HCl_Oral Soln 1mg/1ml S/F     ',\n",
    " 'Ensure Plus_Milkshake Style Liq (9 Flav)',\n",
    " 'Fresubin 2kcal_Drink (6 Flav)           ',\n",
    " 'Fresubin 2kcal_Drink (6 Flav)           ',\n",
    " 'Ensure Plus_Milkshake Style Liq (9 Flav)',\n",
    " 'Nutrison Pack_Energy M/Fibre            '."
   ]
  },
  {
   "cell_type": "code",
   "execution_count": 61,
   "metadata": {},
   "outputs": [
    {
     "data": {
      "text/html": [
       "<div>\n",
       "<style scoped>\n",
       "    .dataframe tbody tr th:only-of-type {\n",
       "        vertical-align: middle;\n",
       "    }\n",
       "\n",
       "    .dataframe tbody tr th {\n",
       "        vertical-align: top;\n",
       "    }\n",
       "\n",
       "    .dataframe thead th {\n",
       "        text-align: right;\n",
       "    }\n",
       "</style>\n",
       "<table border=\"1\" class=\"dataframe\">\n",
       "  <thead>\n",
       "    <tr style=\"text-align: right;\">\n",
       "      <th></th>\n",
       "      <th>items</th>\n",
       "      <th>nic</th>\n",
       "      <th>act_cost</th>\n",
       "      <th>quantity</th>\n",
       "      <th>period</th>\n",
       "    </tr>\n",
       "    <tr>\n",
       "      <th>bnf_code</th>\n",
       "      <th></th>\n",
       "      <th></th>\n",
       "      <th></th>\n",
       "      <th></th>\n",
       "      <th></th>\n",
       "    </tr>\n",
       "  </thead>\n",
       "  <tbody>\n",
       "    <tr>\n",
       "      <th>0801030P0AAFIFI</th>\n",
       "      <td>1</td>\n",
       "      <td>13.37</td>\n",
       "      <td>12.41</td>\n",
       "      <td>0</td>\n",
       "      <td>201804</td>\n",
       "    </tr>\n",
       "    <tr>\n",
       "      <th>20100000737</th>\n",
       "      <td>1</td>\n",
       "      <td>1.40</td>\n",
       "      <td>1.31</td>\n",
       "      <td>1</td>\n",
       "      <td>201804</td>\n",
       "    </tr>\n",
       "    <tr>\n",
       "      <th>20031300053</th>\n",
       "      <td>1</td>\n",
       "      <td>51.97</td>\n",
       "      <td>48.21</td>\n",
       "      <td>1</td>\n",
       "      <td>201804</td>\n",
       "    </tr>\n",
       "    <tr>\n",
       "      <th>20031400045</th>\n",
       "      <td>1</td>\n",
       "      <td>17.70</td>\n",
       "      <td>16.43</td>\n",
       "      <td>1</td>\n",
       "      <td>201804</td>\n",
       "    </tr>\n",
       "    <tr>\n",
       "      <th>0402020ABBCABAG</th>\n",
       "      <td>1</td>\n",
       "      <td>734.70</td>\n",
       "      <td>681.37</td>\n",
       "      <td>1</td>\n",
       "      <td>201804</td>\n",
       "    </tr>\n",
       "    <tr>\n",
       "      <th>20031400062</th>\n",
       "      <td>1</td>\n",
       "      <td>59.43</td>\n",
       "      <td>55.13</td>\n",
       "      <td>1</td>\n",
       "      <td>201804</td>\n",
       "    </tr>\n",
       "    <tr>\n",
       "      <th>21011200274</th>\n",
       "      <td>1</td>\n",
       "      <td>21.28</td>\n",
       "      <td>19.75</td>\n",
       "      <td>1</td>\n",
       "      <td>201804</td>\n",
       "    </tr>\n",
       "    <tr>\n",
       "      <th>21270002383</th>\n",
       "      <td>1</td>\n",
       "      <td>40.19</td>\n",
       "      <td>37.28</td>\n",
       "      <td>1</td>\n",
       "      <td>201804</td>\n",
       "    </tr>\n",
       "    <tr>\n",
       "      <th>21270002421</th>\n",
       "      <td>1</td>\n",
       "      <td>162.24</td>\n",
       "      <td>150.46</td>\n",
       "      <td>1</td>\n",
       "      <td>201804</td>\n",
       "    </tr>\n",
       "    <tr>\n",
       "      <th>21270002468</th>\n",
       "      <td>1</td>\n",
       "      <td>3.18</td>\n",
       "      <td>2.95</td>\n",
       "      <td>1</td>\n",
       "      <td>201804</td>\n",
       "    </tr>\n",
       "  </tbody>\n",
       "</table>\n",
       "</div>"
      ],
      "text/plain": [
       "                 items     nic  act_cost  quantity  period\n",
       "bnf_code                                                  \n",
       "0801030P0AAFIFI      1   13.37     12.41         0  201804\n",
       "20100000737          1    1.40      1.31         1  201804\n",
       "20031300053          1   51.97     48.21         1  201804\n",
       "20031400045          1   17.70     16.43         1  201804\n",
       "0402020ABBCABAG      1  734.70    681.37         1  201804\n",
       "20031400062          1   59.43     55.13         1  201804\n",
       "21011200274          1   21.28     19.75         1  201804\n",
       "21270002383          1   40.19     37.28         1  201804\n",
       "21270002421          1  162.24    150.46         1  201804\n",
       "21270002468          1    3.18      2.95         1  201804"
      ]
     },
     "execution_count": 61,
     "metadata": {},
     "output_type": "execute_result"
    }
   ],
   "source": [
    "# the bottom 10 drugs prescribed\n",
    "\n",
    "Top_drug_sorted = Prescriptions_sum_London.sort_values('quantity',axis=0, ascending=True, kind='quicksort', na_position='last')\n",
    "Top_drug_bottom10_London = Top_drug_sorted.head(10)\n",
    "Top_drug_bottom10_London\n",
    "\n",
    "\n"
   ]
  },
  {
   "cell_type": "raw",
   "metadata": {},
   "source": [
    "The bottom 10 less frequent drugs prescribed are: \n",
    "\n",
    "\n",
    " 'Methotrexate_Inj 7.5mg/0.3ml Pfs        ',\n",
    " 'Calogen_Emuls (Sbery)                   ',\n",
    " 'Serevent_Accuhaler 50mcg (60 D)         ',\n",
    " 'Incruse Ellipta_Inh 55mcg (30D)         ',\n",
    " 'Flutiform_Inha 50/5mcg (120 D)          ',\n",
    " 'Tiotropium_Inha 2.5mcg (60D) CFF + Dev  ',\n",
    " 'Seretide 50_Evohaler 50mcg/25mcg (120 D)',\n",
    " 'Seretide 500_Accuhaler 500mcg/50mcg(60D)',\n",
    " 'Seretide 100_Accuhaler 100mcg/50mcg(60D)',\n",
    " 'Salmeterol_Inha 25mcg (120 D) CFF .   "
   ]
  },
  {
   "cell_type": "markdown",
   "metadata": {},
   "source": [
    "# Q2. Identify all GP practices located in Cambridge. For those practices, describe: \n",
    "o the total number of patients registered\n",
    "o the total number of prescriptions\n",
    "o the total actual cost of these prescriptions (using the ACT COST column)\n",
    "o the top 10 most frequent drugs prescribed\n",
    "o the bottom 10 less frequent drugs prescribed"
   ]
  },
  {
   "cell_type": "markdown",
   "metadata": {},
   "source": [
    "We repeat the steps what we have done in Q1, except we select Cambridge instead of London."
   ]
  },
  {
   "cell_type": "code",
   "execution_count": 10,
   "metadata": {},
   "outputs": [
    {
     "data": {
      "text/html": [
       "<div>\n",
       "<style scoped>\n",
       "    .dataframe tbody tr th:only-of-type {\n",
       "        vertical-align: middle;\n",
       "    }\n",
       "\n",
       "    .dataframe tbody tr th {\n",
       "        vertical-align: top;\n",
       "    }\n",
       "\n",
       "    .dataframe thead th {\n",
       "        text-align: right;\n",
       "    }\n",
       "</style>\n",
       "<table border=\"1\" class=\"dataframe\">\n",
       "  <thead>\n",
       "    <tr style=\"text-align: right;\">\n",
       "      <th></th>\n",
       "      <th>PUBLICATION</th>\n",
       "      <th>EXTRACT_DATE</th>\n",
       "      <th>TYPE</th>\n",
       "      <th>CCG_CODE</th>\n",
       "      <th>ONS_CCG_CODE</th>\n",
       "      <th>CODE</th>\n",
       "      <th>POSTCODE</th>\n",
       "      <th>SEX</th>\n",
       "      <th>AGE</th>\n",
       "      <th>NUMBER_OF_PATIENTS</th>\n",
       "    </tr>\n",
       "  </thead>\n",
       "  <tbody>\n",
       "    <tr>\n",
       "      <th>3050</th>\n",
       "      <td>GP_PRAC_PAT_LIST</td>\n",
       "      <td>01APR2018</td>\n",
       "      <td>GP</td>\n",
       "      <td>06H</td>\n",
       "      <td>E38000026</td>\n",
       "      <td>D81001</td>\n",
       "      <td>CB2 1EH</td>\n",
       "      <td>ALL</td>\n",
       "      <td>ALL</td>\n",
       "      <td>12057</td>\n",
       "    </tr>\n",
       "    <tr>\n",
       "      <th>3051</th>\n",
       "      <td>GP_PRAC_PAT_LIST</td>\n",
       "      <td>01APR2018</td>\n",
       "      <td>GP</td>\n",
       "      <td>06H</td>\n",
       "      <td>E38000026</td>\n",
       "      <td>D81002</td>\n",
       "      <td>CB3 0DB</td>\n",
       "      <td>ALL</td>\n",
       "      <td>ALL</td>\n",
       "      <td>16939</td>\n",
       "    </tr>\n",
       "    <tr>\n",
       "      <th>3052</th>\n",
       "      <td>GP_PRAC_PAT_LIST</td>\n",
       "      <td>01APR2018</td>\n",
       "      <td>GP</td>\n",
       "      <td>06H</td>\n",
       "      <td>E38000026</td>\n",
       "      <td>D81003</td>\n",
       "      <td>CB1 2PY</td>\n",
       "      <td>ALL</td>\n",
       "      <td>ALL</td>\n",
       "      <td>9927</td>\n",
       "    </tr>\n",
       "    <tr>\n",
       "      <th>3054</th>\n",
       "      <td>GP_PRAC_PAT_LIST</td>\n",
       "      <td>01APR2018</td>\n",
       "      <td>GP</td>\n",
       "      <td>06H</td>\n",
       "      <td>E38000026</td>\n",
       "      <td>D81005</td>\n",
       "      <td>CB3 9HS</td>\n",
       "      <td>ALL</td>\n",
       "      <td>ALL</td>\n",
       "      <td>14941</td>\n",
       "    </tr>\n",
       "    <tr>\n",
       "      <th>3057</th>\n",
       "      <td>GP_PRAC_PAT_LIST</td>\n",
       "      <td>01APR2018</td>\n",
       "      <td>GP</td>\n",
       "      <td>06H</td>\n",
       "      <td>E38000026</td>\n",
       "      <td>D81009</td>\n",
       "      <td>CB22 5FY</td>\n",
       "      <td>ALL</td>\n",
       "      <td>ALL</td>\n",
       "      <td>9071</td>\n",
       "    </tr>\n",
       "  </tbody>\n",
       "</table>\n",
       "</div>"
      ],
      "text/plain": [
       "           PUBLICATION EXTRACT_DATE TYPE CCG_CODE ONS_CCG_CODE    CODE  \\\n",
       "3050  GP_PRAC_PAT_LIST    01APR2018   GP      06H    E38000026  D81001   \n",
       "3051  GP_PRAC_PAT_LIST    01APR2018   GP      06H    E38000026  D81002   \n",
       "3052  GP_PRAC_PAT_LIST    01APR2018   GP      06H    E38000026  D81003   \n",
       "3054  GP_PRAC_PAT_LIST    01APR2018   GP      06H    E38000026  D81005   \n",
       "3057  GP_PRAC_PAT_LIST    01APR2018   GP      06H    E38000026  D81009   \n",
       "\n",
       "      POSTCODE  SEX  AGE  NUMBER_OF_PATIENTS  \n",
       "3050   CB2 1EH  ALL  ALL               12057  \n",
       "3051   CB3 0DB  ALL  ALL               16939  \n",
       "3052   CB1 2PY  ALL  ALL                9927  \n",
       "3054   CB3 9HS  ALL  ALL               14941  \n",
       "3057  CB22 5FY  ALL  ALL                9071  "
      ]
     },
     "execution_count": 10,
     "metadata": {},
     "output_type": "execute_result"
    }
   ],
   "source": [
    "#Extract Cambridge GP's Code and slice Cambridge GP from demograph dataset\n",
    "\n",
    "practice_Cambridge_addr = ADDR.practice[(ADDR.addr02.str.strip() == 'CAMBRIDGE')|(ADDR.addr03.str.strip() == 'CAMBRIDGE')]\n",
    "practice_Cambridge_addr.values\n",
    "practice_Cambridge_addr.count()\n",
    "\n",
    "#GP_common_code cambridge\n",
    "GP_common_code2 = list(practice_Cambridge_addr.values)\n",
    "#Cambridge GP\n",
    "GP_demograph_Cambridge = GP_demograph.loc[GP_demograph['CODE'].isin (GP_common_code2)]\n",
    "GP_demograph_Cambridge.head()"
   ]
  },
  {
   "cell_type": "code",
   "execution_count": 11,
   "metadata": {},
   "outputs": [
    {
     "data": {
      "text/plain": [
       "311579"
      ]
     },
     "execution_count": 11,
     "metadata": {},
     "output_type": "execute_result"
    }
   ],
   "source": [
    "#Register patients number\n",
    "\n",
    "GP_number2 = GP_demograph_Cambridge.NUMBER_OF_PATIENTS.sum()\n",
    "GP_number2"
   ]
  },
  {
   "cell_type": "markdown",
   "metadata": {},
   "source": [
    "The total number of registered patients in Cambridge is 311579."
   ]
  },
  {
   "cell_type": "code",
   "execution_count": 12,
   "metadata": {},
   "outputs": [
    {
     "data": {
      "text/plain": [
       "25232152"
      ]
     },
     "execution_count": 12,
     "metadata": {},
     "output_type": "execute_result"
    }
   ],
   "source": [
    "#the total number of prescriptions\n",
    "\n",
    "Prescriptions_Cambridge = PDPI.loc[PDPI['practice'].isin (GP_common_code2)]\n",
    "Prescriptions_Cambridge.quantity.sum()"
   ]
  },
  {
   "cell_type": "markdown",
   "metadata": {},
   "source": [
    "The total number of prescriptions of Cambridge is 25232152."
   ]
  },
  {
   "cell_type": "code",
   "execution_count": 13,
   "metadata": {},
   "outputs": [
    {
     "data": {
      "text/plain": [
       "2434403.94"
      ]
     },
     "execution_count": 13,
     "metadata": {},
     "output_type": "execute_result"
    }
   ],
   "source": [
    "#the total actual cost of these prescriptions (using the ACT COST column)\n",
    "\n",
    "Prescriptions_COST_Cambridge = PDPI.loc[PDPI['practice'].isin (GP_common_code2)]\n",
    "Prescriptions_COST_Cambridge.act_cost.sum()"
   ]
  },
  {
   "cell_type": "markdown",
   "metadata": {},
   "source": [
    "The total actual cost of these prescriptions of Cambridge is 2434403.94."
   ]
  },
  {
   "cell_type": "code",
   "execution_count": 14,
   "metadata": {},
   "outputs": [
    {
     "data": {
      "text/plain": [
       "25232152"
      ]
     },
     "execution_count": 14,
     "metadata": {},
     "output_type": "execute_result"
    }
   ],
   "source": [
    "Prescriptions_Cambridge.quantity.sum()"
   ]
  },
  {
   "cell_type": "code",
   "execution_count": 57,
   "metadata": {},
   "outputs": [
    {
     "data": {
      "text/html": [
       "<div>\n",
       "<style scoped>\n",
       "    .dataframe tbody tr th:only-of-type {\n",
       "        vertical-align: middle;\n",
       "    }\n",
       "\n",
       "    .dataframe tbody tr th {\n",
       "        vertical-align: top;\n",
       "    }\n",
       "\n",
       "    .dataframe thead th {\n",
       "        text-align: right;\n",
       "    }\n",
       "</style>\n",
       "<table border=\"1\" class=\"dataframe\">\n",
       "  <thead>\n",
       "    <tr style=\"text-align: right;\">\n",
       "      <th></th>\n",
       "      <th>items</th>\n",
       "      <th>nic</th>\n",
       "      <th>act_cost</th>\n",
       "      <th>quantity</th>\n",
       "      <th>period</th>\n",
       "    </tr>\n",
       "    <tr>\n",
       "      <th>bnf_code</th>\n",
       "      <th></th>\n",
       "      <th></th>\n",
       "      <th></th>\n",
       "      <th></th>\n",
       "      <th></th>\n",
       "    </tr>\n",
       "  </thead>\n",
       "  <tbody>\n",
       "    <tr>\n",
       "      <th>090402000BBSIA0</th>\n",
       "      <td>302</td>\n",
       "      <td>10725.65</td>\n",
       "      <td>10019.74</td>\n",
       "      <td>924625</td>\n",
       "      <td>5650512</td>\n",
       "    </tr>\n",
       "    <tr>\n",
       "      <th>090402000BBGYA0</th>\n",
       "      <td>27</td>\n",
       "      <td>9370.26</td>\n",
       "      <td>8690.25</td>\n",
       "      <td>651324</td>\n",
       "      <td>2421648</td>\n",
       "    </tr>\n",
       "    <tr>\n",
       "      <th>0407010H0AAAMAM</th>\n",
       "      <td>4565</td>\n",
       "      <td>6334.40</td>\n",
       "      <td>6012.26</td>\n",
       "      <td>573923</td>\n",
       "      <td>6457728</td>\n",
       "    </tr>\n",
       "    <tr>\n",
       "      <th>090402000BBAJA0</th>\n",
       "      <td>152</td>\n",
       "      <td>2859.36</td>\n",
       "      <td>2722.00</td>\n",
       "      <td>508936</td>\n",
       "      <td>4439688</td>\n",
       "    </tr>\n",
       "    <tr>\n",
       "      <th>130201000BBICBW</th>\n",
       "      <td>775</td>\n",
       "      <td>5405.80</td>\n",
       "      <td>5021.06</td>\n",
       "      <td>447500</td>\n",
       "      <td>6659532</td>\n",
       "    </tr>\n",
       "    <tr>\n",
       "      <th>0103050P0AAAAAA</th>\n",
       "      <td>11688</td>\n",
       "      <td>9533.34</td>\n",
       "      <td>9128.05</td>\n",
       "      <td>443650</td>\n",
       "      <td>6457728</td>\n",
       "    </tr>\n",
       "    <tr>\n",
       "      <th>090402000BBLMA0</th>\n",
       "      <td>23</td>\n",
       "      <td>7372.09</td>\n",
       "      <td>6837.07</td>\n",
       "      <td>437716</td>\n",
       "      <td>2623452</td>\n",
       "    </tr>\n",
       "    <tr>\n",
       "      <th>0106040G0AAAAAA</th>\n",
       "      <td>704</td>\n",
       "      <td>1953.93</td>\n",
       "      <td>1847.82</td>\n",
       "      <td>420220</td>\n",
       "      <td>6054120</td>\n",
       "    </tr>\n",
       "    <tr>\n",
       "      <th>0601022B0AAABAB</th>\n",
       "      <td>3620</td>\n",
       "      <td>10553.50</td>\n",
       "      <td>9866.12</td>\n",
       "      <td>328345</td>\n",
       "      <td>6255924</td>\n",
       "    </tr>\n",
       "    <tr>\n",
       "      <th>090402000BBGXA0</th>\n",
       "      <td>15</td>\n",
       "      <td>5790.90</td>\n",
       "      <td>5370.58</td>\n",
       "      <td>298500</td>\n",
       "      <td>1816236</td>\n",
       "    </tr>\n",
       "  </tbody>\n",
       "</table>\n",
       "</div>"
      ],
      "text/plain": [
       "                 items       nic  act_cost  quantity   period\n",
       "bnf_code                                                     \n",
       "090402000BBSIA0    302  10725.65  10019.74    924625  5650512\n",
       "090402000BBGYA0     27   9370.26   8690.25    651324  2421648\n",
       "0407010H0AAAMAM   4565   6334.40   6012.26    573923  6457728\n",
       "090402000BBAJA0    152   2859.36   2722.00    508936  4439688\n",
       "130201000BBICBW    775   5405.80   5021.06    447500  6659532\n",
       "0103050P0AAAAAA  11688   9533.34   9128.05    443650  6457728\n",
       "090402000BBLMA0     23   7372.09   6837.07    437716  2623452\n",
       "0106040G0AAAAAA    704   1953.93   1847.82    420220  6054120\n",
       "0601022B0AAABAB   3620  10553.50   9866.12    328345  6255924\n",
       "090402000BBGXA0     15   5790.90   5370.58    298500  1816236"
      ]
     },
     "execution_count": 57,
     "metadata": {},
     "output_type": "execute_result"
    }
   ],
   "source": [
    "Prescriptions_sum_Cambridge=Prescriptions_Cambridge.groupby(['bnf_code']).sum()\n",
    "# the top 10 most frequent drugs prescribed\n",
    "\n",
    "Top_drug_sorted2 = Prescriptions_sum_Cambridge.sort_values('quantity',axis=0, ascending=False, kind='quicksort', na_position='last')\n",
    "Top_drug_top10 = Top_drug_sorted2.head(10)\n",
    "Top_drug_top10"
   ]
  },
  {
   "cell_type": "code",
   "execution_count": 17,
   "metadata": {},
   "outputs": [
    {
     "data": {
      "text/html": [
       "<div>\n",
       "<style scoped>\n",
       "    .dataframe tbody tr th:only-of-type {\n",
       "        vertical-align: middle;\n",
       "    }\n",
       "\n",
       "    .dataframe tbody tr th {\n",
       "        vertical-align: top;\n",
       "    }\n",
       "\n",
       "    .dataframe thead th {\n",
       "        text-align: right;\n",
       "    }\n",
       "</style>\n",
       "<table border=\"1\" class=\"dataframe\">\n",
       "  <thead>\n",
       "    <tr style=\"text-align: right;\">\n",
       "      <th></th>\n",
       "      <th>sha</th>\n",
       "      <th>pct</th>\n",
       "      <th>practice</th>\n",
       "      <th>bnf_code</th>\n",
       "      <th>bnf_name</th>\n",
       "      <th>items</th>\n",
       "      <th>nic</th>\n",
       "      <th>act_cost</th>\n",
       "      <th>quantity</th>\n",
       "      <th>period</th>\n",
       "    </tr>\n",
       "  </thead>\n",
       "  <tbody>\n",
       "    <tr>\n",
       "      <th>4245715</th>\n",
       "      <td>Q56</td>\n",
       "      <td>06H</td>\n",
       "      <td>D81042</td>\n",
       "      <td>0407010H0AAAMAM</td>\n",
       "      <td>Paracet_Tab 500mg</td>\n",
       "      <td>129</td>\n",
       "      <td>148.93</td>\n",
       "      <td>143.10</td>\n",
       "      <td>14142</td>\n",
       "      <td>201804</td>\n",
       "    </tr>\n",
       "    <tr>\n",
       "      <th>4244606</th>\n",
       "      <td>Q56</td>\n",
       "      <td>06H</td>\n",
       "      <td>D81041</td>\n",
       "      <td>0407010H0AAAMAM</td>\n",
       "      <td>Paracet_Tab 500mg</td>\n",
       "      <td>132</td>\n",
       "      <td>146.64</td>\n",
       "      <td>137.06</td>\n",
       "      <td>15120</td>\n",
       "      <td>201804</td>\n",
       "    </tr>\n",
       "    <tr>\n",
       "      <th>4265667</th>\n",
       "      <td>Q56</td>\n",
       "      <td>06H</td>\n",
       "      <td>D81056</td>\n",
       "      <td>0407010H0AAAMAM</td>\n",
       "      <td>Paracet_Tab 500mg</td>\n",
       "      <td>52</td>\n",
       "      <td>51.06</td>\n",
       "      <td>50.29</td>\n",
       "      <td>5266</td>\n",
       "      <td>201804</td>\n",
       "    </tr>\n",
       "    <tr>\n",
       "      <th>4190190</th>\n",
       "      <td>Q56</td>\n",
       "      <td>06H</td>\n",
       "      <td>D81005</td>\n",
       "      <td>0407010H0AAAMAM</td>\n",
       "      <td>Paracet_Tab 500mg</td>\n",
       "      <td>77</td>\n",
       "      <td>95.11</td>\n",
       "      <td>91.96</td>\n",
       "      <td>7362</td>\n",
       "      <td>201804</td>\n",
       "    </tr>\n",
       "    <tr>\n",
       "      <th>4262937</th>\n",
       "      <td>Q56</td>\n",
       "      <td>06H</td>\n",
       "      <td>D81054</td>\n",
       "      <td>0407010H0AAAMAM</td>\n",
       "      <td>Paracet_Tab 500mg</td>\n",
       "      <td>114</td>\n",
       "      <td>131.93</td>\n",
       "      <td>125.46</td>\n",
       "      <td>13604</td>\n",
       "      <td>201804</td>\n",
       "    </tr>\n",
       "  </tbody>\n",
       "</table>\n",
       "</div>"
      ],
      "text/plain": [
       "         sha  pct practice         bnf_code  \\\n",
       "4245715  Q56  06H   D81042  0407010H0AAAMAM   \n",
       "4244606  Q56  06H   D81041  0407010H0AAAMAM   \n",
       "4265667  Q56  06H   D81056  0407010H0AAAMAM   \n",
       "4190190  Q56  06H   D81005  0407010H0AAAMAM   \n",
       "4262937  Q56  06H   D81054  0407010H0AAAMAM   \n",
       "\n",
       "                                         bnf_name  items     nic  act_cost  \\\n",
       "4245715  Paracet_Tab 500mg                           129  148.93    143.10   \n",
       "4244606  Paracet_Tab 500mg                           132  146.64    137.06   \n",
       "4265667  Paracet_Tab 500mg                            52   51.06     50.29   \n",
       "4190190  Paracet_Tab 500mg                            77   95.11     91.96   \n",
       "4262937  Paracet_Tab 500mg                           114  131.93    125.46   \n",
       "\n",
       "         quantity  period  \n",
       "4245715     14142  201804  \n",
       "4244606     15120  201804  \n",
       "4265667      5266  201804  \n",
       "4190190      7362  201804  \n",
       "4262937     13604  201804  "
      ]
     },
     "execution_count": 17,
     "metadata": {},
     "output_type": "execute_result"
    }
   ],
   "source": [
    "#########药名？？？\n",
    "\n",
    "Top_drug_top10_list =list(Top_drug_top10.index)\n",
    "Prescriptions_Cambridge.loc[Prescriptions_Cambridge.bnf_code.isin (Top_drug_top10_list)].sort_values('bnf_name',axis=0, ascending=False, kind='quicksort', na_position='last').head()\n",
    "\n"
   ]
  },
  {
   "cell_type": "markdown",
   "metadata": {},
   "source": [
    "the top 10 most frequent drugs prescribed:\n",
    "\n",
    "'Nutrison Pack_Energy                    ',\n",
    " 'Fortisip Compact_Liq (8 Flav)           ',\n",
    " 'Nutrison Pack_Energy                    ',\n",
    " 'Paracet_Tab 500mg                       ',\n",
    " 'Nutrison Pack_Energy M/Fibre            ',\n",
    " 'Fortijuce_Liq (7 Flav)                  ',\n",
    " 'Nutrison Pack_Conc Liq                  ',\n",
    " 'Nutriprem 2_Liq                         ',\n",
    " 'Fortisip Compact_Liq (8 Flav)           ',\n",
    " 'Omeprazole_Cap E/C 20mg                 ."
   ]
  },
  {
   "cell_type": "code",
   "execution_count": 18,
   "metadata": {
    "scrolled": true
   },
   "outputs": [
    {
     "data": {
      "text/html": [
       "<div>\n",
       "<style scoped>\n",
       "    .dataframe tbody tr th:only-of-type {\n",
       "        vertical-align: middle;\n",
       "    }\n",
       "\n",
       "    .dataframe tbody tr th {\n",
       "        vertical-align: top;\n",
       "    }\n",
       "\n",
       "    .dataframe thead th {\n",
       "        text-align: right;\n",
       "    }\n",
       "</style>\n",
       "<table border=\"1\" class=\"dataframe\">\n",
       "  <thead>\n",
       "    <tr style=\"text-align: right;\">\n",
       "      <th></th>\n",
       "      <th>items</th>\n",
       "      <th>nic</th>\n",
       "      <th>act_cost</th>\n",
       "      <th>quantity</th>\n",
       "      <th>period</th>\n",
       "    </tr>\n",
       "    <tr>\n",
       "      <th>bnf_code</th>\n",
       "      <th></th>\n",
       "      <th></th>\n",
       "      <th></th>\n",
       "      <th></th>\n",
       "      <th></th>\n",
       "    </tr>\n",
       "  </thead>\n",
       "  <tbody>\n",
       "    <tr>\n",
       "      <th>1308010Z0BBABAB</th>\n",
       "      <td>1</td>\n",
       "      <td>65.00</td>\n",
       "      <td>60.28</td>\n",
       "      <td>0</td>\n",
       "      <td>201804</td>\n",
       "    </tr>\n",
       "    <tr>\n",
       "      <th>21010230125</th>\n",
       "      <td>1</td>\n",
       "      <td>4.18</td>\n",
       "      <td>3.89</td>\n",
       "      <td>1</td>\n",
       "      <td>201804</td>\n",
       "    </tr>\n",
       "    <tr>\n",
       "      <th>23301083062</th>\n",
       "      <td>1</td>\n",
       "      <td>50.37</td>\n",
       "      <td>46.71</td>\n",
       "      <td>1</td>\n",
       "      <td>201804</td>\n",
       "    </tr>\n",
       "    <tr>\n",
       "      <th>21210000022</th>\n",
       "      <td>1</td>\n",
       "      <td>4.95</td>\n",
       "      <td>4.60</td>\n",
       "      <td>1</td>\n",
       "      <td>201804</td>\n",
       "    </tr>\n",
       "    <tr>\n",
       "      <th>23301083061</th>\n",
       "      <td>1</td>\n",
       "      <td>50.37</td>\n",
       "      <td>46.71</td>\n",
       "      <td>1</td>\n",
       "      <td>201804</td>\n",
       "    </tr>\n",
       "    <tr>\n",
       "      <th>23301083059</th>\n",
       "      <td>1</td>\n",
       "      <td>50.37</td>\n",
       "      <td>46.73</td>\n",
       "      <td>1</td>\n",
       "      <td>201804</td>\n",
       "    </tr>\n",
       "    <tr>\n",
       "      <th>23301023195</th>\n",
       "      <td>1</td>\n",
       "      <td>25.50</td>\n",
       "      <td>23.65</td>\n",
       "      <td>1</td>\n",
       "      <td>201804</td>\n",
       "    </tr>\n",
       "    <tr>\n",
       "      <th>23301023186</th>\n",
       "      <td>1</td>\n",
       "      <td>12.24</td>\n",
       "      <td>11.35</td>\n",
       "      <td>1</td>\n",
       "      <td>201804</td>\n",
       "    </tr>\n",
       "    <tr>\n",
       "      <th>23301023127</th>\n",
       "      <td>1</td>\n",
       "      <td>12.24</td>\n",
       "      <td>11.35</td>\n",
       "      <td>1</td>\n",
       "      <td>201804</td>\n",
       "    </tr>\n",
       "    <tr>\n",
       "      <th>23301023105</th>\n",
       "      <td>1</td>\n",
       "      <td>25.50</td>\n",
       "      <td>23.65</td>\n",
       "      <td>1</td>\n",
       "      <td>201804</td>\n",
       "    </tr>\n",
       "  </tbody>\n",
       "</table>\n",
       "</div>"
      ],
      "text/plain": [
       "                 items    nic  act_cost  quantity  period\n",
       "bnf_code                                                 \n",
       "1308010Z0BBABAB      1  65.00     60.28         0  201804\n",
       "21010230125          1   4.18      3.89         1  201804\n",
       "23301083062          1  50.37     46.71         1  201804\n",
       "21210000022          1   4.95      4.60         1  201804\n",
       "23301083061          1  50.37     46.71         1  201804\n",
       "23301083059          1  50.37     46.73         1  201804\n",
       "23301023195          1  25.50     23.65         1  201804\n",
       "23301023186          1  12.24     11.35         1  201804\n",
       "23301023127          1  12.24     11.35         1  201804\n",
       "23301023105          1  25.50     23.65         1  201804"
      ]
     },
     "execution_count": 18,
     "metadata": {},
     "output_type": "execute_result"
    }
   ],
   "source": [
    "# the bottom 10 less frequent drugs prescribed\n",
    "\n",
    "Bottom_drug_sorted2 = Prescriptions_sum_Cambridge.sort_values('quantity',axis=0, ascending=True, kind='quicksort', na_position='last')\n",
    "Bottom_drug_top10 = Bottom_drug_sorted2.head(10)\n",
    "Bottom_drug_top10"
   ]
  },
  {
   "cell_type": "code",
   "execution_count": null,
   "metadata": {},
   "outputs": [],
   "source": []
  },
  {
   "cell_type": "code",
   "execution_count": null,
   "metadata": {},
   "outputs": [],
   "source": []
  },
  {
   "cell_type": "markdown",
   "metadata": {},
   "source": [
    "The bottom 10 less frequent drugs prescribed:\n",
    "    \n",
    " 'Picato_Gel 500mcg/g                     ',\n",
    " 'Ingenol Mebutate_Gel 150mcg/g           ',\n",
    " 'Tubifast 2-Way Stch 5cm x 3m (Green) Stk',\n",
    " 'Surg Suture W320 Ethilon Non-Absorb Ster',\n",
    " 'LiquiBand Flow Control 0.5g Amp Skin Adh',\n",
    " 'Zeroveen Crm 100g                       ',\n",
    " 'Aquadrate Crm 10% 100g (App)            ',\n",
    " 'Mandanol Sod Chlor 0.9% Nsl Dps         ',\n",
    " 'Almus Sod Chlor 0.9% Nsl Dps            ',\n",
    " 'Hydromol Bath & Shower Emollient 350ml ."
   ]
  },
  {
   "cell_type": "markdown",
   "metadata": {},
   "source": [
    "# 3. Describe total number of prescriptions and their total actual cost (using the ACT COST column) across all practices for drugs related to:\n",
    "o cardiovascular disease (British National Formulary chapter 2)\n",
    "o antidepressants (British National Formulary chapter 4.3)"
   ]
  },
  {
   "cell_type": "markdown",
   "metadata": {},
   "source": [
    "Cardiovascular disease (CVD) is a general term for conditions affecting the heart or blood vessels. And it is one of the main causes of deathh and disability in the UK, but it can be prevented by leading a healthy lifestyle. In our task, we Need to find the total number of prescriptions and total actual cost."
   ]
  },
  {
   "cell_type": "code",
   "execution_count": 19,
   "metadata": {},
   "outputs": [
    {
     "data": {
      "text/html": [
       "<div>\n",
       "<style scoped>\n",
       "    .dataframe tbody tr th:only-of-type {\n",
       "        vertical-align: middle;\n",
       "    }\n",
       "\n",
       "    .dataframe tbody tr th {\n",
       "        vertical-align: top;\n",
       "    }\n",
       "\n",
       "    .dataframe thead th {\n",
       "        text-align: right;\n",
       "    }\n",
       "</style>\n",
       "<table border=\"1\" class=\"dataframe\">\n",
       "  <thead>\n",
       "    <tr style=\"text-align: right;\">\n",
       "      <th></th>\n",
       "      <th>sha</th>\n",
       "      <th>pct</th>\n",
       "      <th>practice</th>\n",
       "      <th>bnf_code</th>\n",
       "      <th>bnf_name</th>\n",
       "      <th>items</th>\n",
       "      <th>nic</th>\n",
       "      <th>act_cost</th>\n",
       "      <th>quantity</th>\n",
       "      <th>period</th>\n",
       "    </tr>\n",
       "  </thead>\n",
       "  <tbody>\n",
       "    <tr>\n",
       "      <th>28</th>\n",
       "      <td>Q44</td>\n",
       "      <td>RTV</td>\n",
       "      <td>Y05294</td>\n",
       "      <td>0204000R0AAAHAH</td>\n",
       "      <td>Propranolol HCl_Tab 10mg</td>\n",
       "      <td>4</td>\n",
       "      <td>7.12</td>\n",
       "      <td>6.65</td>\n",
       "      <td>224</td>\n",
       "      <td>201804</td>\n",
       "    </tr>\n",
       "    <tr>\n",
       "      <th>29</th>\n",
       "      <td>Q44</td>\n",
       "      <td>RTV</td>\n",
       "      <td>Y05294</td>\n",
       "      <td>0204000R0AAAJAJ</td>\n",
       "      <td>Propranolol HCl_Tab 40mg</td>\n",
       "      <td>3</td>\n",
       "      <td>1.35</td>\n",
       "      <td>1.59</td>\n",
       "      <td>42</td>\n",
       "      <td>201804</td>\n",
       "    </tr>\n",
       "    <tr>\n",
       "      <th>337</th>\n",
       "      <td>Q44</td>\n",
       "      <td>RXA</td>\n",
       "      <td>Y00327</td>\n",
       "      <td>0202020D0AAAEAE</td>\n",
       "      <td>Bumetanide_Tab 1mg</td>\n",
       "      <td>1</td>\n",
       "      <td>0.26</td>\n",
       "      <td>0.35</td>\n",
       "      <td>6</td>\n",
       "      <td>201804</td>\n",
       "    </tr>\n",
       "    <tr>\n",
       "      <th>338</th>\n",
       "      <td>Q44</td>\n",
       "      <td>RXA</td>\n",
       "      <td>Y00327</td>\n",
       "      <td>0202020L0AABBBB</td>\n",
       "      <td>Furosemide_Tab 20mg</td>\n",
       "      <td>1</td>\n",
       "      <td>0.13</td>\n",
       "      <td>0.23</td>\n",
       "      <td>10</td>\n",
       "      <td>201804</td>\n",
       "    </tr>\n",
       "    <tr>\n",
       "      <th>339</th>\n",
       "      <td>Q44</td>\n",
       "      <td>RXA</td>\n",
       "      <td>Y00327</td>\n",
       "      <td>0202020L0AABDBD</td>\n",
       "      <td>Furosemide_Tab 40mg</td>\n",
       "      <td>1</td>\n",
       "      <td>0.17</td>\n",
       "      <td>0.27</td>\n",
       "      <td>14</td>\n",
       "      <td>201804</td>\n",
       "    </tr>\n",
       "  </tbody>\n",
       "</table>\n",
       "</div>"
      ],
      "text/plain": [
       "     sha  pct practice         bnf_code  \\\n",
       "28   Q44  RTV   Y05294  0204000R0AAAHAH   \n",
       "29   Q44  RTV   Y05294  0204000R0AAAJAJ   \n",
       "337  Q44  RXA   Y00327  0202020D0AAAEAE   \n",
       "338  Q44  RXA   Y00327  0202020L0AABBBB   \n",
       "339  Q44  RXA   Y00327  0202020L0AABDBD   \n",
       "\n",
       "                                     bnf_name  items   nic  act_cost  \\\n",
       "28   Propranolol HCl_Tab 10mg                      4  7.12      6.65   \n",
       "29   Propranolol HCl_Tab 40mg                      3  1.35      1.59   \n",
       "337  Bumetanide_Tab 1mg                            1  0.26      0.35   \n",
       "338  Furosemide_Tab 20mg                           1  0.13      0.23   \n",
       "339  Furosemide_Tab 40mg                           1  0.17      0.27   \n",
       "\n",
       "     quantity  period  \n",
       "28        224  201804  \n",
       "29         42  201804  \n",
       "337         6  201804  \n",
       "338        10  201804  \n",
       "339        14  201804  "
      ]
     },
     "execution_count": 19,
     "metadata": {},
     "output_type": "execute_result"
    }
   ],
   "source": [
    "#Cardiovascular disease \n",
    "#In British National Formulary chapter 2, bnf_code is described as 02XXXXXXX\n",
    "#We use regular expression to extra all the data related to CVD\n",
    "\n",
    "cardi =PDPI[PDPI.bnf_code.str.contains('^02',regex=True)]\n",
    "cardi.head()"
   ]
  },
  {
   "cell_type": "code",
   "execution_count": 20,
   "metadata": {},
   "outputs": [
    {
     "data": {
      "text/plain": [
       "933262147"
      ]
     },
     "execution_count": 20,
     "metadata": {},
     "output_type": "execute_result"
    }
   ],
   "source": [
    "#total number of prescription CVD\n",
    "cardi.quantity.sum()"
   ]
  },
  {
   "cell_type": "raw",
   "metadata": {},
   "source": [
    "The total number of presecribtion CVD is 933262147."
   ]
  },
  {
   "cell_type": "code",
   "execution_count": 21,
   "metadata": {},
   "outputs": [
    {
     "data": {
      "text/plain": [
       "90193834.01999994"
      ]
     },
     "execution_count": 21,
     "metadata": {},
     "output_type": "execute_result"
    }
   ],
   "source": [
    "#total actual cost CVD\n",
    "cardi.act_cost.sum()"
   ]
  },
  {
   "cell_type": "raw",
   "metadata": {},
   "source": [
    "The total actual cost of CVD is 90193834.01999994"
   ]
  },
  {
   "cell_type": "markdown",
   "metadata": {},
   "source": [
    "Depression is a common mental health problem that causes people to experience low mood,loss pleasure and hopeless.It has been considered as one of the most common disease and continuesly increasing mortality under high-pressure daliy life.\n",
    "\n",
    "Antidepressants are a type of medicine used to treat clinical depression. We can analyse the explicit and implicit information from the prescribtion of Antidepressants."
   ]
  },
  {
   "cell_type": "code",
   "execution_count": 22,
   "metadata": {},
   "outputs": [
    {
     "data": {
      "text/html": [
       "<div>\n",
       "<style scoped>\n",
       "    .dataframe tbody tr th:only-of-type {\n",
       "        vertical-align: middle;\n",
       "    }\n",
       "\n",
       "    .dataframe tbody tr th {\n",
       "        vertical-align: top;\n",
       "    }\n",
       "\n",
       "    .dataframe thead th {\n",
       "        text-align: right;\n",
       "    }\n",
       "</style>\n",
       "<table border=\"1\" class=\"dataframe\">\n",
       "  <thead>\n",
       "    <tr style=\"text-align: right;\">\n",
       "      <th></th>\n",
       "      <th>sha</th>\n",
       "      <th>pct</th>\n",
       "      <th>practice</th>\n",
       "      <th>bnf_code</th>\n",
       "      <th>bnf_name</th>\n",
       "      <th>items</th>\n",
       "      <th>nic</th>\n",
       "      <th>act_cost</th>\n",
       "      <th>quantity</th>\n",
       "      <th>period</th>\n",
       "    </tr>\n",
       "  </thead>\n",
       "  <tbody>\n",
       "    <tr>\n",
       "      <th>9</th>\n",
       "      <td>Q44</td>\n",
       "      <td>RTV</td>\n",
       "      <td>Y04937</td>\n",
       "      <td>0403010X0AAAAAA</td>\n",
       "      <td>Trazodone HCl_Cap 50mg</td>\n",
       "      <td>1</td>\n",
       "      <td>1.19</td>\n",
       "      <td>1.22</td>\n",
       "      <td>14</td>\n",
       "      <td>201804</td>\n",
       "    </tr>\n",
       "    <tr>\n",
       "      <th>10</th>\n",
       "      <td>Q44</td>\n",
       "      <td>RTV</td>\n",
       "      <td>Y04937</td>\n",
       "      <td>0403030D0AAAAAA</td>\n",
       "      <td>Citalopram Hydrob_Tab 20mg</td>\n",
       "      <td>1</td>\n",
       "      <td>1.17</td>\n",
       "      <td>1.20</td>\n",
       "      <td>14</td>\n",
       "      <td>201804</td>\n",
       "    </tr>\n",
       "    <tr>\n",
       "      <th>11</th>\n",
       "      <td>Q44</td>\n",
       "      <td>RTV</td>\n",
       "      <td>Y04937</td>\n",
       "      <td>0403030D0AAABAB</td>\n",
       "      <td>Citalopram Hydrob_Tab 10mg</td>\n",
       "      <td>1</td>\n",
       "      <td>0.76</td>\n",
       "      <td>0.82</td>\n",
       "      <td>14</td>\n",
       "      <td>201804</td>\n",
       "    </tr>\n",
       "    <tr>\n",
       "      <th>12</th>\n",
       "      <td>Q44</td>\n",
       "      <td>RTV</td>\n",
       "      <td>Y04937</td>\n",
       "      <td>0403030P0AAAGAG</td>\n",
       "      <td>Paroxetine HCl_Oral Soln 10mg/5ml S/F</td>\n",
       "      <td>1</td>\n",
       "      <td>15.99</td>\n",
       "      <td>14.94</td>\n",
       "      <td>263</td>\n",
       "      <td>201804</td>\n",
       "    </tr>\n",
       "    <tr>\n",
       "      <th>13</th>\n",
       "      <td>Q44</td>\n",
       "      <td>RTV</td>\n",
       "      <td>Y04937</td>\n",
       "      <td>0403030P0AAAKAK</td>\n",
       "      <td>Paroxetine HCl_Tab 10mg</td>\n",
       "      <td>1</td>\n",
       "      <td>16.50</td>\n",
       "      <td>15.41</td>\n",
       "      <td>49</td>\n",
       "      <td>201804</td>\n",
       "    </tr>\n",
       "  </tbody>\n",
       "</table>\n",
       "</div>"
      ],
      "text/plain": [
       "    sha  pct practice         bnf_code  \\\n",
       "9   Q44  RTV   Y04937  0403010X0AAAAAA   \n",
       "10  Q44  RTV   Y04937  0403030D0AAAAAA   \n",
       "11  Q44  RTV   Y04937  0403030D0AAABAB   \n",
       "12  Q44  RTV   Y04937  0403030P0AAAGAG   \n",
       "13  Q44  RTV   Y04937  0403030P0AAAKAK   \n",
       "\n",
       "                                    bnf_name  items    nic  act_cost  \\\n",
       "9   Trazodone HCl_Cap 50mg                        1   1.19      1.22   \n",
       "10  Citalopram Hydrob_Tab 20mg                    1   1.17      1.20   \n",
       "11  Citalopram Hydrob_Tab 10mg                    1   0.76      0.82   \n",
       "12  Paroxetine HCl_Oral Soln 10mg/5ml S/F         1  15.99     14.94   \n",
       "13  Paroxetine HCl_Tab 10mg                       1  16.50     15.41   \n",
       "\n",
       "    quantity  period  \n",
       "9         14  201804  \n",
       "10        14  201804  \n",
       "11        14  201804  \n",
       "12       263  201804  \n",
       "13        49  201804  "
      ]
     },
     "execution_count": 22,
     "metadata": {},
     "output_type": "execute_result"
    }
   ],
   "source": [
    "#Antidepressants\n",
    "#In British National Formulary chapter 4.3, Antidepressants are described as 0403XXXXX\n",
    "#We use regular expression to extra all the data related to Antidepressants\n",
    "\n",
    "antide =PDPI[PDPI.bnf_code.str.contains('^0403',regex=True)]\n",
    "antide.head()"
   ]
  },
  {
   "cell_type": "code",
   "execution_count": 23,
   "metadata": {},
   "outputs": [
    {
     "data": {
      "text/plain": [
       "214223401"
      ]
     },
     "execution_count": 23,
     "metadata": {},
     "output_type": "execute_result"
    }
   ],
   "source": [
    "#Total number of prescription \n",
    "antide.quantity.sum()"
   ]
  },
  {
   "cell_type": "raw",
   "metadata": {},
   "source": [
    "The total number of Antidepressants prescription is 214223401."
   ]
  },
  {
   "cell_type": "code",
   "execution_count": 24,
   "metadata": {},
   "outputs": [
    {
     "data": {
      "text/plain": [
       "16853470.86"
      ]
     },
     "execution_count": 24,
     "metadata": {},
     "output_type": "execute_result"
    }
   ],
   "source": [
    "antide.act_cost.sum()"
   ]
  },
  {
   "cell_type": "raw",
   "metadata": {},
   "source": [
    "The total number of Antidepressants prescription is 16853470.86."
   ]
  },
  {
   "cell_type": "markdown",
   "metadata": {},
   "source": [
    "# 4. Describe the total spending and the relative costs per patient across all practices for the month of April 2018:"
   ]
  },
  {
   "cell_type": "code",
   "execution_count": 25,
   "metadata": {},
   "outputs": [
    {
     "data": {
      "text/html": [
       "<div>\n",
       "<style scoped>\n",
       "    .dataframe tbody tr th:only-of-type {\n",
       "        vertical-align: middle;\n",
       "    }\n",
       "\n",
       "    .dataframe tbody tr th {\n",
       "        vertical-align: top;\n",
       "    }\n",
       "\n",
       "    .dataframe thead th {\n",
       "        text-align: right;\n",
       "    }\n",
       "</style>\n",
       "<table border=\"1\" class=\"dataframe\">\n",
       "  <thead>\n",
       "    <tr style=\"text-align: right;\">\n",
       "      <th></th>\n",
       "      <th>practice</th>\n",
       "      <th>total_costs_per_practice</th>\n",
       "    </tr>\n",
       "  </thead>\n",
       "  <tbody>\n",
       "    <tr>\n",
       "      <th>0</th>\n",
       "      <td>A81001</td>\n",
       "      <td>52194.63</td>\n",
       "    </tr>\n",
       "    <tr>\n",
       "      <th>1</th>\n",
       "      <td>A81002</td>\n",
       "      <td>268607.26</td>\n",
       "    </tr>\n",
       "    <tr>\n",
       "      <th>2</th>\n",
       "      <td>A81004</td>\n",
       "      <td>139115.40</td>\n",
       "    </tr>\n",
       "    <tr>\n",
       "      <th>3</th>\n",
       "      <td>A81005</td>\n",
       "      <td>102914.06</td>\n",
       "    </tr>\n",
       "    <tr>\n",
       "      <th>4</th>\n",
       "      <td>A81006</td>\n",
       "      <td>183226.79</td>\n",
       "    </tr>\n",
       "  </tbody>\n",
       "</table>\n",
       "</div>"
      ],
      "text/plain": [
       "  practice  total_costs_per_practice\n",
       "0   A81001                  52194.63\n",
       "1   A81002                 268607.26\n",
       "2   A81004                 139115.40\n",
       "3   A81005                 102914.06\n",
       "4   A81006                 183226.79"
      ]
     },
     "execution_count": 25,
     "metadata": {},
     "output_type": "execute_result"
    }
   ],
   "source": [
    "#visualize the monthly total spending per registered patients using a scatterplot and provide a trend line\n",
    "#Calcualte total costs for eachh practice  \n",
    "\n",
    "total_costs_practices =pd.DataFrame(PDPI.groupby(PDPI.practice).apply(lambda subf: subf['act_cost'].sum()))\n",
    "total_costs_practices.columns = ['total_costs_per_practice']\n",
    "# Reseting the index\n",
    "total_costs_practices.reset_index(inplace=True)\n",
    "total_costs_practices.head()\n"
   ]
  },
  {
   "cell_type": "code",
   "execution_count": 26,
   "metadata": {},
   "outputs": [
    {
     "data": {
      "text/html": [
       "<div>\n",
       "<style scoped>\n",
       "    .dataframe tbody tr th:only-of-type {\n",
       "        vertical-align: middle;\n",
       "    }\n",
       "\n",
       "    .dataframe tbody tr th {\n",
       "        vertical-align: top;\n",
       "    }\n",
       "\n",
       "    .dataframe thead th {\n",
       "        text-align: right;\n",
       "    }\n",
       "</style>\n",
       "<table border=\"1\" class=\"dataframe\">\n",
       "  <thead>\n",
       "    <tr style=\"text-align: right;\">\n",
       "      <th></th>\n",
       "      <th>PUBLICATION</th>\n",
       "      <th>EXTRACT_DATE</th>\n",
       "      <th>TYPE</th>\n",
       "      <th>CCG_CODE</th>\n",
       "      <th>ONS_CCG_CODE</th>\n",
       "      <th>CODE</th>\n",
       "      <th>POSTCODE</th>\n",
       "      <th>SEX</th>\n",
       "      <th>AGE</th>\n",
       "      <th>NUMBER_OF_PATIENTS</th>\n",
       "    </tr>\n",
       "  </thead>\n",
       "  <tbody>\n",
       "    <tr>\n",
       "      <th>0</th>\n",
       "      <td>GP_PRAC_PAT_LIST</td>\n",
       "      <td>01APR2018</td>\n",
       "      <td>GP</td>\n",
       "      <td>00C</td>\n",
       "      <td>E38000042</td>\n",
       "      <td>A83005</td>\n",
       "      <td>DL1 3RT</td>\n",
       "      <td>ALL</td>\n",
       "      <td>ALL</td>\n",
       "      <td>11826</td>\n",
       "    </tr>\n",
       "    <tr>\n",
       "      <th>1</th>\n",
       "      <td>GP_PRAC_PAT_LIST</td>\n",
       "      <td>01APR2018</td>\n",
       "      <td>GP</td>\n",
       "      <td>00C</td>\n",
       "      <td>E38000042</td>\n",
       "      <td>A83006</td>\n",
       "      <td>DL3 6HZ</td>\n",
       "      <td>ALL</td>\n",
       "      <td>ALL</td>\n",
       "      <td>8044</td>\n",
       "    </tr>\n",
       "    <tr>\n",
       "      <th>2</th>\n",
       "      <td>GP_PRAC_PAT_LIST</td>\n",
       "      <td>01APR2018</td>\n",
       "      <td>GP</td>\n",
       "      <td>00C</td>\n",
       "      <td>E38000042</td>\n",
       "      <td>A83010</td>\n",
       "      <td>DL3 9JP</td>\n",
       "      <td>ALL</td>\n",
       "      <td>ALL</td>\n",
       "      <td>14070</td>\n",
       "    </tr>\n",
       "    <tr>\n",
       "      <th>3</th>\n",
       "      <td>GP_PRAC_PAT_LIST</td>\n",
       "      <td>01APR2018</td>\n",
       "      <td>GP</td>\n",
       "      <td>00C</td>\n",
       "      <td>E38000042</td>\n",
       "      <td>A83013</td>\n",
       "      <td>DL1 4YL</td>\n",
       "      <td>ALL</td>\n",
       "      <td>ALL</td>\n",
       "      <td>11298</td>\n",
       "    </tr>\n",
       "    <tr>\n",
       "      <th>4</th>\n",
       "      <td>GP_PRAC_PAT_LIST</td>\n",
       "      <td>01APR2018</td>\n",
       "      <td>GP</td>\n",
       "      <td>00C</td>\n",
       "      <td>E38000042</td>\n",
       "      <td>A83031</td>\n",
       "      <td>DL3 8SQ</td>\n",
       "      <td>ALL</td>\n",
       "      <td>ALL</td>\n",
       "      <td>10109</td>\n",
       "    </tr>\n",
       "  </tbody>\n",
       "</table>\n",
       "</div>"
      ],
      "text/plain": [
       "        PUBLICATION EXTRACT_DATE TYPE CCG_CODE ONS_CCG_CODE    CODE POSTCODE  \\\n",
       "0  GP_PRAC_PAT_LIST    01APR2018   GP      00C    E38000042  A83005  DL1 3RT   \n",
       "1  GP_PRAC_PAT_LIST    01APR2018   GP      00C    E38000042  A83006  DL3 6HZ   \n",
       "2  GP_PRAC_PAT_LIST    01APR2018   GP      00C    E38000042  A83010  DL3 9JP   \n",
       "3  GP_PRAC_PAT_LIST    01APR2018   GP      00C    E38000042  A83013  DL1 4YL   \n",
       "4  GP_PRAC_PAT_LIST    01APR2018   GP      00C    E38000042  A83031  DL3 8SQ   \n",
       "\n",
       "   SEX  AGE  NUMBER_OF_PATIENTS  \n",
       "0  ALL  ALL               11826  \n",
       "1  ALL  ALL                8044  \n",
       "2  ALL  ALL               14070  \n",
       "3  ALL  ALL               11298  \n",
       "4  ALL  ALL               10109  "
      ]
     },
     "execution_count": 26,
     "metadata": {},
     "output_type": "execute_result"
    }
   ],
   "source": [
    "gp_counts = pd.read_csv('/Users/charles/Desktop/gp-reg-pat-prac-all.csv').rename(columns=lambda x: x.strip())\n",
    "gp_counts.head()"
   ]
  },
  {
   "cell_type": "code",
   "execution_count": 27,
   "metadata": {},
   "outputs": [
    {
     "data": {
      "text/plain": [
       "(0, 40000)"
      ]
     },
     "execution_count": 27,
     "metadata": {},
     "output_type": "execute_result"
    },
    {
     "data": {
      "image/png": "[encoded data removed]",
      "text/plain": [
       "<matplotlib.figure.Figure at 0x11aa31cc0>"
      ]
     },
     "metadata": {},
     "output_type": "display_data"
    }
   ],
   "source": [
    "#Merge two datasets by common key(practice and CODE)\n",
    "#visualization by scatterplot, x-axis is total_cost_per_GP, \n",
    "#y-axis is total number of registered patients_per_GP\n",
    "\n",
    "merged = pd.merge(total_costs_practices, gp_counts[['CODE', 'NUMBER_OF_PATIENTS']], left_on='practice' , right_on='CODE')\n",
    "ax3=merged.plot(kind='scatter', x='total_costs_per_practice', y='NUMBER_OF_PATIENTS', title='Scatter plot: monthly total spending / registered patients', figsize=(8,6))\n",
    "ax3.set_xlabel(\"total spending practices 2018 April/ Pound\",fontsize=12)\n",
    "ax3.set_ylabel(\"total number of registered patients\",fontsize=12)\n",
    "ax3.set_xlim(0, 450000)\n",
    "ax3.set_ylim(0, 40000)"
   ]
  },
  {
   "cell_type": "code",
   "execution_count": 28,
   "metadata": {
    "scrolled": true
   },
   "outputs": [
    {
     "data": {
      "text/plain": [
       "(0, 72227)"
      ]
     },
     "execution_count": 28,
     "metadata": {},
     "output_type": "execute_result"
    },
    {
     "data": {
      "image/png": "[encoded data removed]",
      "text/plain": [
       "<matplotlib.figure.Figure at 0x119f7d9b0>"
      ]
     },
     "metadata": {},
     "output_type": "display_data"
    }
   ],
   "source": [
    "#Redraw the previous scatterplot and modify the max-value of x and y-axis¶\n",
    "\n",
    "from math import floor\n",
    "max_x = floor(merged.total_costs_per_practice.max())\n",
    "max_y = floor(merged.NUMBER_OF_PATIENTS.max())\n",
    "\n",
    "ax4=merged.plot(kind='scatter', x='total_costs_per_practice', y='NUMBER_OF_PATIENTS', title='Scatter plot: monthly total spending / registered patients', \n",
    "                color='royalblue', figsize=(8,6))\n",
    "ax4.set_xlabel(\"total spending practices 2018 April/ Pound\",fontsize=12)\n",
    "ax4.set_ylabel(\"total number of registered patients\",fontsize=12)\n",
    "ax4.set_xlim(0, max_x)\n",
    "ax4.set_ylim(0, max_y)\n",
    "\n",
    "\n"
   ]
  },
  {
   "cell_type": "markdown",
   "metadata": {},
   "source": [
    "From the figure above, we can assume there is an linear correlation between total number of registered patients and monlthly total spending per practise. we will use python to simulate and validate the linear regression, calculate linear equation."
   ]
  },
  {
   "cell_type": "code",
   "execution_count": 29,
   "metadata": {},
   "outputs": [
    {
     "data": {
      "text/plain": [
       "(0, 72227)"
      ]
     },
     "execution_count": 29,
     "metadata": {},
     "output_type": "execute_result"
    },
    {
     "data": {
      "image/png": "[encoded data removed]",
      "text/plain": [
       "<matplotlib.figure.Figure at 0x119f7d780>"
      ]
     },
     "metadata": {},
     "output_type": "display_data"
    }
   ],
   "source": [
    "#Scatterplot with correlation\n",
    "#plot those data points\n",
    "#fig, ax = plt.subplots()\n",
    "\n",
    "import matplotlib.pyplot as plt\n",
    "fig=plt.figure(figsize=(8, 6))\n",
    "ax=fig.add_subplot(111)\n",
    "x= merged['total_costs_per_practice']\n",
    "y = merged['NUMBER_OF_PATIENTS']\n",
    "ax.scatter(x, y, color='royalblue')\n",
    "fit = np.polyfit(x, y, deg=1)\n",
    "ax.plot(x, fit[0] * x + fit[1], color='red')\n",
    "ax.set_title('Scatter plot: monthly total spending / registered patients')\n",
    "ax.set_xlabel(\"total spending patients 2018 April/ Pound\",fontsize=12)\n",
    "ax.set_ylabel(\"total number of registered patients\",fontsize=12)\n",
    "max_x = floor(merged.total_costs_per_practice.max())\n",
    "max_y = floor(merged.NUMBER_OF_PATIENTS.max())\n",
    "ax.set_xlim(0, max_x)\n",
    "ax.set_ylim(0, max_y)"
   ]
  },
  {
   "cell_type": "markdown",
   "metadata": {},
   "source": [
    "From the simulation, we get the linear equation y = 0.077*x +1485.56  (x:total spending practises April/pound,y: total number of registered patients). So from the equation, we can predict how many patients can a GP prescribe within a certain budget. Moreover, we can generate a histogram for relative spending for all practices and fit in Gaussian curve to identify the distribution of patients and monthly prescription spending per patient. "
   ]
  },
  {
   "cell_type": "code",
   "execution_count": 30,
   "metadata": {},
   "outputs": [
    {
     "data": {
      "image/png": "[encoded data removed]",
      "text/plain": [
       "<matplotlib.figure.Figure at 0x11ba241d0>"
      ]
     },
     "metadata": {},
     "output_type": "display_data"
    }
   ],
   "source": [
    "#generate a histogram for relative spending for all practices and fit a Gaussian(normal) curve\n",
    "\n",
    "cost_patient_plot = merged\n",
    "cost_patient_plot['cost_per_patient'] = cost_patient_plot['total_costs_per_practice'] / cost_patient_plot['NUMBER_OF_PATIENTS'] \n",
    "\n",
    "x = cost_patient_plot.cost_per_patient.values\n",
    "\n",
    "plt.hist(x, bins=5000)\n",
    "plt.xlabel(\"Monthly prescription spending per patient/ Pound\")\n",
    "plt.ylabel(\"Frequency\")\n",
    "\n",
    "min_x = floor(cost_patient_plot['cost_per_patient'].quantile(.01))\n",
    "max_x = floor(cost_patient_plot['cost_per_patient'].quantile(.99))\n",
    "plt.xlim(min_x, max_x) #do not show outliers\n",
    "plt.title(\"GP practice monthly total prescription spending per registered patient\")\n",
    "plt.show()"
   ]
  },
  {
   "cell_type": "code",
   "execution_count": 31,
   "metadata": {},
   "outputs": [
    {
     "data": {
      "image/png": "[encoded data removed]",
      "text/plain": [
       "<matplotlib.figure.Figure at 0x11ba24198>"
      ]
     },
     "metadata": {},
     "output_type": "display_data"
    }
   ],
   "source": [
    "from scipy.stats import norm\n",
    "\n",
    "\n",
    "cost_patient_plot = merged\n",
    "cost_patient_plot['cost_per_patient'] = cost_patient_plot['total_costs_per_practice'] / cost_patient_plot['NUMBER_OF_PATIENTS'] \n",
    "\n",
    "x = cost_patient_plot.cost_per_patient.values\n",
    "\n",
    "min_x = floor(cost_patient_plot['cost_per_patient'].quantile(.01))\n",
    "max_x = floor(cost_patient_plot['cost_per_patient'].quantile(.99))\n",
    "x2 =  cost_patient_plot[(x > min_x)&(x<max_x)]['cost_per_patient'] #some data are outlier, limit the data between min_x and max_x\n",
    "rangea = np.arange(min_x,max_x,1)\n",
    "\n",
    "plt.hist(x, bins=10000,normed = True)\n",
    "plt.plot(rangea,norm.pdf(rangea,np.mean(x2),np.std(x2)),color = 'r') #fit in normal curve, mean,standard deviation\n",
    "\n",
    "plt.xlabel(\"Monthly prescription spending per patient/pounds\")\n",
    "plt.ylabel(\"Frequency\")\n",
    "\n",
    "plt.xlim(min_x, max_x) #do not show outliers\n",
    "plt.title(\"GP practice monthly total prescription spending per registered patient\")\n",
    "plt.show()\n"
   ]
  },
  {
   "cell_type": "markdown",
   "metadata": {},
   "source": [
    "From the figure above, we can see that the data mainly obey Gaussain distribution (mean is 10.73,std is 2.76) although slightly skewed. 95% of the patients are in distribution of spending 5.5 to 16.5 pounds per month (-2std to 2std), patients are more likely paying 8-14 pounds per month generally."
   ]
  },
  {
   "cell_type": "code",
   "execution_count": null,
   "metadata": {},
   "outputs": [],
   "source": []
  },
  {
   "cell_type": "markdown",
   "metadata": {},
   "source": [
    "# Assignment B\n",
    "\n",
    "Background and Aim\n",
    "\n",
    "The WHO Mortality Database is a database of registered deaths compiled by WHO from data given by national authorities around the world. The cause of each death is classified by the circumstances that led to death. The database contains number of deaths by country, year, sex, age group and cause of death as far back from 1950. In the datasets, we use ICD-10 code for recording the cause of death.\n",
    "Each country in the database is uniquely identified all WHO datasets by a four digit numeric code. The mapping between countries and identifier codes is located in the \"Country codes\" lookup file. Information on the population of each country is found in the \"Population and live births\" file.\n",
    "\n",
    "Datasets:\n",
    "1.\tMorticd10_part1.csv\n",
    "2.\tMorticd10_part2.csv\n",
    "\n",
    "Necessary Variables Explanation:\n",
    "Country : Country code \n",
    "Year    : Year to which data refer\n",
    "Cause   : Cause of death \n",
    "Deaths1 : Deaths at all ages\n",
    "Deaths2 : Deaths at age 0 year\n",
    "Deaths3 : Deaths at age 1 year\n",
    "...\n",
    "Deaths8 : Deaths at age 10-14 year\n",
    "...\n",
    "Deaths24: Deaths at age 90-95 year\n",
    "Deaths25: Deaths at age 95 and above\n",
    "Deaths26: unspecified\n",
    "\n",
    "\n",
    "3.  pop.csv\n",
    "\n",
    "Necessary Variables Explanation:\n",
    "Country : Country code\n",
    "Year    : Year to which data refer\n",
    "Pop1    : Population at all ages\n",
    "Pop2    : Population at 0 years\n",
    "...\n",
    "Pop7    :Population at age 5-9 years\n",
    "...\n",
    "Pop24   :Population at age 90-94 years\n",
    "Pop25   :Population at age 95 years and over\n",
    "Pop26   :unspecified\n"
   ]
  },
  {
   "cell_type": "markdown",
   "metadata": {},
   "source": [
    "# Question1 What was the population and the total number of deaths (from all causes, all ages) in 2010 for:\n",
    "\n",
    "o Iceland\n",
    "\n",
    "o Italy\n",
    "\n",
    "o New Zealand"
   ]
  },
  {
   "cell_type": "code",
   "execution_count": 32,
   "metadata": {},
   "outputs": [
    {
     "name": "stderr",
     "output_type": "stream",
     "text": [
      "/Users/charles/anaconda3/lib/python3.6/site-packages/IPython/core/interactiveshell.py:2728: DtypeWarning: Columns (4) have mixed types. Specify dtype option on import or set low_memory=False.\n",
      "  interactivity=interactivity, compiler=compiler, result=result)\n",
      "/Users/charles/anaconda3/lib/python3.6/site-packages/IPython/core/interactiveshell.py:2728: DtypeWarning: Columns (2,4) have mixed types. Specify dtype option on import or set low_memory=False.\n",
      "  interactivity=interactivity, compiler=compiler, result=result)\n"
     ]
    },
    {
     "data": {
      "text/html": [
       "<div>\n",
       "<style scoped>\n",
       "    .dataframe tbody tr th:only-of-type {\n",
       "        vertical-align: middle;\n",
       "    }\n",
       "\n",
       "    .dataframe tbody tr th {\n",
       "        vertical-align: top;\n",
       "    }\n",
       "\n",
       "    .dataframe thead th {\n",
       "        text-align: right;\n",
       "    }\n",
       "</style>\n",
       "<table border=\"1\" class=\"dataframe\">\n",
       "  <thead>\n",
       "    <tr style=\"text-align: right;\">\n",
       "      <th></th>\n",
       "      <th>Country</th>\n",
       "      <th>Admin1</th>\n",
       "      <th>SubDiv</th>\n",
       "      <th>Year</th>\n",
       "      <th>List</th>\n",
       "      <th>Cause</th>\n",
       "      <th>Sex</th>\n",
       "      <th>Frmat</th>\n",
       "      <th>IM_Frmat</th>\n",
       "      <th>Deaths1</th>\n",
       "      <th>...</th>\n",
       "      <th>Deaths21</th>\n",
       "      <th>Deaths22</th>\n",
       "      <th>Deaths23</th>\n",
       "      <th>Deaths24</th>\n",
       "      <th>Deaths25</th>\n",
       "      <th>Deaths26</th>\n",
       "      <th>IM_Deaths1</th>\n",
       "      <th>IM_Deaths2</th>\n",
       "      <th>IM_Deaths3</th>\n",
       "      <th>IM_Deaths4</th>\n",
       "    </tr>\n",
       "  </thead>\n",
       "  <tbody>\n",
       "    <tr>\n",
       "      <th>0</th>\n",
       "      <td>1400</td>\n",
       "      <td>NaN</td>\n",
       "      <td>NaN</td>\n",
       "      <td>2001</td>\n",
       "      <td>101</td>\n",
       "      <td>1000</td>\n",
       "      <td>1</td>\n",
       "      <td>7</td>\n",
       "      <td>8</td>\n",
       "      <td>332</td>\n",
       "      <td>...</td>\n",
       "      <td>95.0</td>\n",
       "      <td>NaN</td>\n",
       "      <td>NaN</td>\n",
       "      <td>NaN</td>\n",
       "      <td>NaN</td>\n",
       "      <td>0.0</td>\n",
       "      <td>8.0</td>\n",
       "      <td>NaN</td>\n",
       "      <td>NaN</td>\n",
       "      <td>NaN</td>\n",
       "    </tr>\n",
       "    <tr>\n",
       "      <th>1</th>\n",
       "      <td>1400</td>\n",
       "      <td>NaN</td>\n",
       "      <td>NaN</td>\n",
       "      <td>2001</td>\n",
       "      <td>101</td>\n",
       "      <td>1000</td>\n",
       "      <td>2</td>\n",
       "      <td>7</td>\n",
       "      <td>8</td>\n",
       "      <td>222</td>\n",
       "      <td>...</td>\n",
       "      <td>112.0</td>\n",
       "      <td>NaN</td>\n",
       "      <td>NaN</td>\n",
       "      <td>NaN</td>\n",
       "      <td>NaN</td>\n",
       "      <td>0.0</td>\n",
       "      <td>11.0</td>\n",
       "      <td>NaN</td>\n",
       "      <td>NaN</td>\n",
       "      <td>NaN</td>\n",
       "    </tr>\n",
       "    <tr>\n",
       "      <th>2</th>\n",
       "      <td>1400</td>\n",
       "      <td>NaN</td>\n",
       "      <td>NaN</td>\n",
       "      <td>2001</td>\n",
       "      <td>101</td>\n",
       "      <td>1001</td>\n",
       "      <td>1</td>\n",
       "      <td>7</td>\n",
       "      <td>8</td>\n",
       "      <td>24</td>\n",
       "      <td>...</td>\n",
       "      <td>5.0</td>\n",
       "      <td>NaN</td>\n",
       "      <td>NaN</td>\n",
       "      <td>NaN</td>\n",
       "      <td>NaN</td>\n",
       "      <td>0.0</td>\n",
       "      <td>0.0</td>\n",
       "      <td>NaN</td>\n",
       "      <td>NaN</td>\n",
       "      <td>NaN</td>\n",
       "    </tr>\n",
       "    <tr>\n",
       "      <th>3</th>\n",
       "      <td>1400</td>\n",
       "      <td>NaN</td>\n",
       "      <td>NaN</td>\n",
       "      <td>2001</td>\n",
       "      <td>101</td>\n",
       "      <td>1001</td>\n",
       "      <td>2</td>\n",
       "      <td>7</td>\n",
       "      <td>8</td>\n",
       "      <td>14</td>\n",
       "      <td>...</td>\n",
       "      <td>6.0</td>\n",
       "      <td>NaN</td>\n",
       "      <td>NaN</td>\n",
       "      <td>NaN</td>\n",
       "      <td>NaN</td>\n",
       "      <td>0.0</td>\n",
       "      <td>0.0</td>\n",
       "      <td>NaN</td>\n",
       "      <td>NaN</td>\n",
       "      <td>NaN</td>\n",
       "    </tr>\n",
       "    <tr>\n",
       "      <th>4</th>\n",
       "      <td>1400</td>\n",
       "      <td>NaN</td>\n",
       "      <td>NaN</td>\n",
       "      <td>2001</td>\n",
       "      <td>101</td>\n",
       "      <td>1002</td>\n",
       "      <td>1</td>\n",
       "      <td>7</td>\n",
       "      <td>8</td>\n",
       "      <td>0</td>\n",
       "      <td>...</td>\n",
       "      <td>0.0</td>\n",
       "      <td>NaN</td>\n",
       "      <td>NaN</td>\n",
       "      <td>NaN</td>\n",
       "      <td>NaN</td>\n",
       "      <td>0.0</td>\n",
       "      <td>0.0</td>\n",
       "      <td>NaN</td>\n",
       "      <td>NaN</td>\n",
       "      <td>NaN</td>\n",
       "    </tr>\n",
       "  </tbody>\n",
       "</table>\n",
       "<p>5 rows × 39 columns</p>\n",
       "</div>"
      ],
      "text/plain": [
       "   Country  Admin1 SubDiv  Year List Cause  Sex  Frmat  IM_Frmat  Deaths1  \\\n",
       "0     1400     NaN    NaN  2001  101  1000    1      7         8      332   \n",
       "1     1400     NaN    NaN  2001  101  1000    2      7         8      222   \n",
       "2     1400     NaN    NaN  2001  101  1001    1      7         8       24   \n",
       "3     1400     NaN    NaN  2001  101  1001    2      7         8       14   \n",
       "4     1400     NaN    NaN  2001  101  1002    1      7         8        0   \n",
       "\n",
       "      ...      Deaths21  Deaths22  Deaths23  Deaths24  Deaths25  Deaths26  \\\n",
       "0     ...          95.0       NaN       NaN       NaN       NaN       0.0   \n",
       "1     ...         112.0       NaN       NaN       NaN       NaN       0.0   \n",
       "2     ...           5.0       NaN       NaN       NaN       NaN       0.0   \n",
       "3     ...           6.0       NaN       NaN       NaN       NaN       0.0   \n",
       "4     ...           0.0       NaN       NaN       NaN       NaN       0.0   \n",
       "\n",
       "   IM_Deaths1  IM_Deaths2  IM_Deaths3  IM_Deaths4  \n",
       "0         8.0         NaN         NaN         NaN  \n",
       "1        11.0         NaN         NaN         NaN  \n",
       "2         0.0         NaN         NaN         NaN  \n",
       "3         0.0         NaN         NaN         NaN  \n",
       "4         0.0         NaN         NaN         NaN  \n",
       "\n",
       "[5 rows x 39 columns]"
      ]
     },
     "execution_count": 32,
     "metadata": {},
     "output_type": "execute_result"
    }
   ],
   "source": [
    "#First of all, Merge Morticd10_part1 and Morticd10_part2 into one dataset 'new_files'\n",
    "\n",
    "file1 = pd.read_csv('Morticd10_part1.csv')\n",
    "file2 = pd.read_csv('Morticd10_part2.csv')\n",
    "frames = [file1,file2]\n",
    "new_files = pd.concat(frames)\n",
    "new_files.head()"
   ]
  },
  {
   "cell_type": "markdown",
   "metadata": {},
   "source": [
    "# Mortality\n",
    "The first question aims to know the total deaths(from all causes,all ages)and population in 2010 for Iceland, Italy and New Zealand. We will extract total number of death and population from two relevant datasets. From the documentation, we find the country codes for Iceland,Italy and New Zealand are 4160,4180 and 5150."
   ]
  },
  {
   "cell_type": "code",
   "execution_count": 33,
   "metadata": {},
   "outputs": [
    {
     "data": {
      "text/plain": [
       "4038"
      ]
     },
     "execution_count": 33,
     "metadata": {},
     "output_type": "execute_result"
    }
   ],
   "source": [
    "#oIceland 4160       o New Zealand 5150\n",
    "#Total number of deaths Iceland (all cause,all age in 2010) \n",
    "\n",
    "Total_deaths_Iceland = new_files.loc[(new_files['Country']==4160) & (new_files['Year']==2010)]\n",
    "Total_deaths_Iceland.Deaths1.sum()"
   ]
  },
  {
   "cell_type": "markdown",
   "metadata": {},
   "source": [
    "The total number of deaths Iceland in 2010 is 4038."
   ]
  },
  {
   "cell_type": "code",
   "execution_count": 34,
   "metadata": {},
   "outputs": [
    {
     "data": {
      "text/plain": [
       "1169230"
      ]
     },
     "execution_count": 34,
     "metadata": {},
     "output_type": "execute_result"
    }
   ],
   "source": [
    "#oItaly 4180\n",
    "#Total number of deaths Italy (all cause,all age in 2010)\n",
    "\n",
    "Total_deaths_Italy = new_files.loc[(new_files['Country']==4180) & (new_files['Year']==2010)]\n",
    "Total_deaths_Italy.Deaths1.sum()"
   ]
  },
  {
   "cell_type": "raw",
   "metadata": {},
   "source": [
    "The total number of deaths Italy in 2010 is 1169230."
   ]
  },
  {
   "cell_type": "code",
   "execution_count": 35,
   "metadata": {},
   "outputs": [
    {
     "data": {
      "text/plain": [
       "57298"
      ]
     },
     "execution_count": 35,
     "metadata": {},
     "output_type": "execute_result"
    }
   ],
   "source": [
    "#oItaly 5150\n",
    "#Total number of deaths New Zealand (all cause,all age in 2010)\n",
    "\n",
    "Total_deaths_Newzealand = new_files.loc[(new_files['Country']==5150) & (new_files['Year']==2010)]\n",
    "Total_deaths_Newzealand.Deaths1.sum()"
   ]
  },
  {
   "cell_type": "raw",
   "metadata": {},
   "source": [
    "The total number of deaths Italy in 2010 is 1169230."
   ]
  },
  {
   "cell_type": "markdown",
   "metadata": {},
   "source": [
    "# Population"
   ]
  },
  {
   "cell_type": "code",
   "execution_count": 36,
   "metadata": {},
   "outputs": [
    {
     "data": {
      "text/html": [
       "<div>\n",
       "<style scoped>\n",
       "    .dataframe tbody tr th:only-of-type {\n",
       "        vertical-align: middle;\n",
       "    }\n",
       "\n",
       "    .dataframe tbody tr th {\n",
       "        vertical-align: top;\n",
       "    }\n",
       "\n",
       "    .dataframe thead th {\n",
       "        text-align: right;\n",
       "    }\n",
       "</style>\n",
       "<table border=\"1\" class=\"dataframe\">\n",
       "  <thead>\n",
       "    <tr style=\"text-align: right;\">\n",
       "      <th></th>\n",
       "      <th>Country</th>\n",
       "      <th>Admin1</th>\n",
       "      <th>SubDiv</th>\n",
       "      <th>Year</th>\n",
       "      <th>Sex</th>\n",
       "      <th>Frmat</th>\n",
       "      <th>Pop1</th>\n",
       "      <th>Pop2</th>\n",
       "      <th>Pop3</th>\n",
       "      <th>Pop4</th>\n",
       "      <th>...</th>\n",
       "      <th>Pop18</th>\n",
       "      <th>Pop19</th>\n",
       "      <th>Pop20</th>\n",
       "      <th>Pop21</th>\n",
       "      <th>Pop22</th>\n",
       "      <th>Pop23</th>\n",
       "      <th>Pop24</th>\n",
       "      <th>Pop25</th>\n",
       "      <th>Pop26</th>\n",
       "      <th>Lb</th>\n",
       "    </tr>\n",
       "  </thead>\n",
       "  <tbody>\n",
       "    <tr>\n",
       "      <th>0</th>\n",
       "      <td>1060</td>\n",
       "      <td>NaN</td>\n",
       "      <td>NaN</td>\n",
       "      <td>1980</td>\n",
       "      <td>1</td>\n",
       "      <td>7</td>\n",
       "      <td>137100.0</td>\n",
       "      <td>3400.0</td>\n",
       "      <td>15800.0</td>\n",
       "      <td>NaN</td>\n",
       "      <td>...</td>\n",
       "      <td>NaN</td>\n",
       "      <td>5300.0</td>\n",
       "      <td>NaN</td>\n",
       "      <td>2900.0</td>\n",
       "      <td>NaN</td>\n",
       "      <td>NaN</td>\n",
       "      <td>NaN</td>\n",
       "      <td>NaN</td>\n",
       "      <td>6500.0</td>\n",
       "      <td>5000.0</td>\n",
       "    </tr>\n",
       "    <tr>\n",
       "      <th>1</th>\n",
       "      <td>1060</td>\n",
       "      <td>NaN</td>\n",
       "      <td>NaN</td>\n",
       "      <td>1980</td>\n",
       "      <td>2</td>\n",
       "      <td>7</td>\n",
       "      <td>159000.0</td>\n",
       "      <td>4000.0</td>\n",
       "      <td>18400.0</td>\n",
       "      <td>NaN</td>\n",
       "      <td>...</td>\n",
       "      <td>NaN</td>\n",
       "      <td>6200.0</td>\n",
       "      <td>NaN</td>\n",
       "      <td>3400.0</td>\n",
       "      <td>NaN</td>\n",
       "      <td>NaN</td>\n",
       "      <td>NaN</td>\n",
       "      <td>NaN</td>\n",
       "      <td>7500.0</td>\n",
       "      <td>6000.0</td>\n",
       "    </tr>\n",
       "    <tr>\n",
       "      <th>2</th>\n",
       "      <td>1125</td>\n",
       "      <td>NaN</td>\n",
       "      <td>NaN</td>\n",
       "      <td>1955</td>\n",
       "      <td>1</td>\n",
       "      <td>2</td>\n",
       "      <td>5051500.0</td>\n",
       "      <td>150300.0</td>\n",
       "      <td>543400.0</td>\n",
       "      <td>NaN</td>\n",
       "      <td>...</td>\n",
       "      <td>110200.0</td>\n",
       "      <td>51100.0</td>\n",
       "      <td>41600.0</td>\n",
       "      <td>14300.0</td>\n",
       "      <td>11800.0</td>\n",
       "      <td>25300.0</td>\n",
       "      <td>NaN</td>\n",
       "      <td>NaN</td>\n",
       "      <td>0.0</td>\n",
       "      <td>253329.0</td>\n",
       "    </tr>\n",
       "    <tr>\n",
       "      <th>3</th>\n",
       "      <td>1125</td>\n",
       "      <td>NaN</td>\n",
       "      <td>NaN</td>\n",
       "      <td>1955</td>\n",
       "      <td>2</td>\n",
       "      <td>2</td>\n",
       "      <td>5049400.0</td>\n",
       "      <td>145200.0</td>\n",
       "      <td>551000.0</td>\n",
       "      <td>NaN</td>\n",
       "      <td>...</td>\n",
       "      <td>122100.0</td>\n",
       "      <td>51100.0</td>\n",
       "      <td>50700.0</td>\n",
       "      <td>15800.0</td>\n",
       "      <td>18000.0</td>\n",
       "      <td>28500.0</td>\n",
       "      <td>NaN</td>\n",
       "      <td>NaN</td>\n",
       "      <td>0.0</td>\n",
       "      <td>237901.0</td>\n",
       "    </tr>\n",
       "    <tr>\n",
       "      <th>4</th>\n",
       "      <td>1125</td>\n",
       "      <td>NaN</td>\n",
       "      <td>NaN</td>\n",
       "      <td>1956</td>\n",
       "      <td>1</td>\n",
       "      <td>2</td>\n",
       "      <td>5353700.0</td>\n",
       "      <td>158700.0</td>\n",
       "      <td>576600.0</td>\n",
       "      <td>NaN</td>\n",
       "      <td>...</td>\n",
       "      <td>116900.0</td>\n",
       "      <td>54100.0</td>\n",
       "      <td>44000.0</td>\n",
       "      <td>14900.0</td>\n",
       "      <td>12400.0</td>\n",
       "      <td>26600.0</td>\n",
       "      <td>NaN</td>\n",
       "      <td>NaN</td>\n",
       "      <td>0.0</td>\n",
       "      <td>250022.0</td>\n",
       "    </tr>\n",
       "  </tbody>\n",
       "</table>\n",
       "<p>5 rows × 33 columns</p>\n",
       "</div>"
      ],
      "text/plain": [
       "   Country  Admin1 SubDiv  Year  Sex  Frmat       Pop1      Pop2      Pop3  \\\n",
       "0     1060     NaN    NaN  1980    1      7   137100.0    3400.0   15800.0   \n",
       "1     1060     NaN    NaN  1980    2      7   159000.0    4000.0   18400.0   \n",
       "2     1125     NaN    NaN  1955    1      2  5051500.0  150300.0  543400.0   \n",
       "3     1125     NaN    NaN  1955    2      2  5049400.0  145200.0  551000.0   \n",
       "4     1125     NaN    NaN  1956    1      2  5353700.0  158700.0  576600.0   \n",
       "\n",
       "   Pop4    ...        Pop18    Pop19    Pop20    Pop21    Pop22    Pop23  \\\n",
       "0   NaN    ...          NaN   5300.0      NaN   2900.0      NaN      NaN   \n",
       "1   NaN    ...          NaN   6200.0      NaN   3400.0      NaN      NaN   \n",
       "2   NaN    ...     110200.0  51100.0  41600.0  14300.0  11800.0  25300.0   \n",
       "3   NaN    ...     122100.0  51100.0  50700.0  15800.0  18000.0  28500.0   \n",
       "4   NaN    ...     116900.0  54100.0  44000.0  14900.0  12400.0  26600.0   \n",
       "\n",
       "   Pop24  Pop25   Pop26        Lb  \n",
       "0    NaN    NaN  6500.0    5000.0  \n",
       "1    NaN    NaN  7500.0    6000.0  \n",
       "2    NaN    NaN     0.0  253329.0  \n",
       "3    NaN    NaN     0.0  237901.0  \n",
       "4    NaN    NaN     0.0  250022.0  \n",
       "\n",
       "[5 rows x 33 columns]"
      ]
     },
     "execution_count": 36,
     "metadata": {},
     "output_type": "execute_result"
    }
   ],
   "source": [
    "#read population csv\n",
    "pop = pd.read_csv('pop.csv')\n",
    "pop.head()"
   ]
  },
  {
   "cell_type": "code",
   "execution_count": 37,
   "metadata": {},
   "outputs": [
    {
     "data": {
      "text/plain": [
       "318041.0"
      ]
     },
     "execution_count": 37,
     "metadata": {},
     "output_type": "execute_result"
    }
   ],
   "source": [
    "# Pop1\tPopulation at all ages\n",
    "# oIceland 4160 \n",
    "\n",
    "pop_Iceland =pop.loc[(pop['Country']==4160)&(pop['Year']==2010)].Pop1.sum()\n",
    "pop_Iceland"
   ]
  },
  {
   "cell_type": "raw",
   "metadata": {},
   "source": [
    "The Population of Iceland in 2010 is 318041."
   ]
  },
  {
   "cell_type": "code",
   "execution_count": 38,
   "metadata": {},
   "outputs": [
    {
     "data": {
      "text/plain": [
       "60483386.0"
      ]
     },
     "execution_count": 38,
     "metadata": {},
     "output_type": "execute_result"
    }
   ],
   "source": [
    "#oItaly 4180\n",
    "\n",
    "pop_Italy =pop.loc[(pop['Country']==4180)&(pop['Year']==2010)].Pop1.sum()\n",
    "pop_Italy"
   ]
  },
  {
   "cell_type": "raw",
   "metadata": {},
   "source": [
    "The Population of Italy in 2010 is 60483386."
   ]
  },
  {
   "cell_type": "code",
   "execution_count": 39,
   "metadata": {},
   "outputs": [
    {
     "data": {
      "text/plain": [
       "4367360.0"
      ]
     },
     "execution_count": 39,
     "metadata": {},
     "output_type": "execute_result"
    }
   ],
   "source": [
    "#o New Zealand 5150\n",
    "\n",
    "pop_Newzealand =pop.loc[(pop['Country']==5150)&(pop['Year']==2010)].Pop1.sum()\n",
    "pop_Newzealand"
   ]
  },
  {
   "cell_type": "raw",
   "metadata": {},
   "source": [
    "The Population of Italy in 2010 is 4367360."
   ]
  },
  {
   "cell_type": "raw",
   "metadata": {},
   "source": [
    "From the results above, the populations of Iceland, Italy and New Zealand are 318041,60483386 and 4367360. The mortality of these three countries are 4038,1169230,57298. The population differences are quite huge, the population of Italy is Iceland 190 times and the differences of deaths are also obvious. However, If we calculate the proportions of mortality/populations are 1.27%,1.93%,1.31% respectively, the mortaliy maintain 1% to 2% percentage of country population."
   ]
  },
  {
   "cell_type": "markdown",
   "metadata": {},
   "source": [
    "# 2. What was the distribution of deaths (all causes, all years) by age group in Italy?\n",
    "\n",
    "o Visualise the results using a histogram. \n",
    "\n",
    "In the question2, in order to visualise the distribution of deaths by age group in Italy, we need to calculate total number of deaths according to different age groups."
   ]
  },
  {
   "cell_type": "code",
   "execution_count": 40,
   "metadata": {},
   "outputs": [
    {
     "data": {
      "text/plain": [
       "15280766"
      ]
     },
     "execution_count": 40,
     "metadata": {},
     "output_type": "execute_result"
    }
   ],
   "source": [
    "#Total number of deaths Italy (all cause,all age)\n",
    "\n",
    "Total_deaths_Italy = new_files.loc[(new_files['Country']==4180)]\n",
    "Total_deaths_Italy.Deaths1.sum()"
   ]
  },
  {
   "cell_type": "code",
   "execution_count": 41,
   "metadata": {},
   "outputs": [
    {
     "data": {
      "text/html": [
       "<div>\n",
       "<style scoped>\n",
       "    .dataframe tbody tr th:only-of-type {\n",
       "        vertical-align: middle;\n",
       "    }\n",
       "\n",
       "    .dataframe tbody tr th {\n",
       "        vertical-align: top;\n",
       "    }\n",
       "\n",
       "    .dataframe thead th {\n",
       "        text-align: right;\n",
       "    }\n",
       "</style>\n",
       "<table border=\"1\" class=\"dataframe\">\n",
       "  <thead>\n",
       "    <tr style=\"text-align: right;\">\n",
       "      <th></th>\n",
       "      <th>all_age</th>\n",
       "      <th>Deaths</th>\n",
       "    </tr>\n",
       "  </thead>\n",
       "  <tbody>\n",
       "    <tr>\n",
       "      <th>0</th>\n",
       "      <td>0</td>\n",
       "      <td>48752.0</td>\n",
       "    </tr>\n",
       "    <tr>\n",
       "      <th>1</th>\n",
       "      <td>1</td>\n",
       "      <td>3262.0</td>\n",
       "    </tr>\n",
       "    <tr>\n",
       "      <th>2</th>\n",
       "      <td>2</td>\n",
       "      <td>2168.0</td>\n",
       "    </tr>\n",
       "    <tr>\n",
       "      <th>3</th>\n",
       "      <td>3</td>\n",
       "      <td>1826.0</td>\n",
       "    </tr>\n",
       "    <tr>\n",
       "      <th>4</th>\n",
       "      <td>4</td>\n",
       "      <td>1628.0</td>\n",
       "    </tr>\n",
       "  </tbody>\n",
       "</table>\n",
       "</div>"
      ],
      "text/plain": [
       "  all_age   Deaths\n",
       "0       0  48752.0\n",
       "1       1   3262.0\n",
       "2       2   2168.0\n",
       "3       3   1826.0\n",
       "4       4   1628.0"
      ]
     },
     "execution_count": 41,
     "metadata": {},
     "output_type": "execute_result"
    }
   ],
   "source": [
    "# rename age_group by real age groups and rebuild deaths dataframe according to age groups\n",
    "\n",
    "age_group = ['Deaths2','Deaths3','Deaths4','Deaths5','Deaths6','Deaths7','Deaths8','Deaths9','Deaths10','Deaths11',\n",
    "             'Deaths12','Deaths13','Deaths14','Deaths15','Deaths16','Deaths17','Deaths18','Deaths19','Deaths20','Deaths21',\n",
    "             'Deaths22','Deaths23','Deaths24','Deaths25','Deaths26','IM_Deaths1','IM_Deaths2','IM_Deaths3','IM_Deaths4'\n",
    "            ]\n",
    "list1 = []\n",
    "for i in age_group:\n",
    "    list1.append(Total_deaths_Italy[i].sum())\n",
    "    \n",
    "Death_age = ['0','1','2','3','4','5-9','10-14','15-19','20-24','25-29','30-34','35-39','40-44','45-49','50-54','55-59','60-64','65-69','70-74','75-79','80-84','85-89','90-94','95+','unspecified','0d','1-6d','7-27d','28-364d']\n",
    "Italy_Death_age = zip(Death_age,list1)\n",
    "data_dict = dict(Italy_Death_age)\n",
    "Deaths = pd.DataFrame(list(data_dict.items()), columns=['all_age', 'Deaths'])\n",
    "Deaths.head()\n",
    "\n"
   ]
  },
  {
   "cell_type": "code",
   "execution_count": 42,
   "metadata": {},
   "outputs": [
    {
     "data": {
      "text/plain": [
       "Text(0,0.5,'Deaths')"
      ]
     },
     "execution_count": 42,
     "metadata": {},
     "output_type": "execute_result"
    },
    {
     "data": {
      "image/png": "[encoded data removed]",
      "text/plain": [
       "<matplotlib.figure.Figure at 0x129e5af98>"
      ]
     },
     "metadata": {},
     "output_type": "display_data"
    }
   ],
   "source": [
    "#Visualisation \n",
    "\n",
    "ax = Deaths[['all_age','Deaths']].plot(kind ='bar',x ='all_age',y='Deaths',color = 'red')\n",
    "\n",
    "ax.set_xlabel(\"All age\",fontsize=10)\n",
    "\n",
    "ax.set_ylabel(\"Deaths\",fontsize=10)"
   ]
  },
  {
   "cell_type": "raw",
   "metadata": {},
   "source": [
    "From the figure above, we can see that Deaths of age in Italy 80-84 and 85-89 are highest, almost the same amount. The following four ranks are 75-79,90-94,70-74 and 95+. On the other hand, the age less than 60 years old have obviously low deaths.The deaths keeps quadraticly increasing from young to 89. However, age less than 1 years old, which mean the new babies having a relatively high deaths. Italian health authorities need to pay more efforts in improving medical conditions at new babies and the aged people (more than 70).  "
   ]
  },
  {
   "cell_type": "markdown",
   "metadata": {},
   "source": [
    "# 3. What were the top five causes of death (top five ICD-10 terms) in Italy across all years for the Neoplasm ICD10-category (C00-D48)?\n",
    "\n",
    "o Generate a table with the cause of death, the number of deaths, and the proportion of overall deaths.\n",
    "\n",
    "o Generate a pie chart to visualize the proportion of deaths."
   ]
  },
  {
   "cell_type": "code",
   "execution_count": 43,
   "metadata": {},
   "outputs": [
    {
     "data": {
      "text/html": [
       "<div>\n",
       "<style scoped>\n",
       "    .dataframe tbody tr th:only-of-type {\n",
       "        vertical-align: middle;\n",
       "    }\n",
       "\n",
       "    .dataframe tbody tr th {\n",
       "        vertical-align: top;\n",
       "    }\n",
       "\n",
       "    .dataframe thead th {\n",
       "        text-align: right;\n",
       "    }\n",
       "</style>\n",
       "<table border=\"1\" class=\"dataframe\">\n",
       "  <thead>\n",
       "    <tr style=\"text-align: right;\">\n",
       "      <th></th>\n",
       "      <th>Deaths1</th>\n",
       "      <th>Proportion</th>\n",
       "    </tr>\n",
       "    <tr>\n",
       "      <th>Cause</th>\n",
       "      <th></th>\n",
       "      <th></th>\n",
       "    </tr>\n",
       "  </thead>\n",
       "  <tbody>\n",
       "    <tr>\n",
       "      <th>C349</th>\n",
       "      <td>426451</td>\n",
       "      <td>0.190419</td>\n",
       "    </tr>\n",
       "    <tr>\n",
       "      <th>C509</th>\n",
       "      <td>155895</td>\n",
       "      <td>0.069610</td>\n",
       "    </tr>\n",
       "    <tr>\n",
       "      <th>C189</th>\n",
       "      <td>143188</td>\n",
       "      <td>0.063936</td>\n",
       "    </tr>\n",
       "    <tr>\n",
       "      <th>C169</th>\n",
       "      <td>125679</td>\n",
       "      <td>0.056118</td>\n",
       "    </tr>\n",
       "    <tr>\n",
       "      <th>C259</th>\n",
       "      <td>120070</td>\n",
       "      <td>0.053614</td>\n",
       "    </tr>\n",
       "  </tbody>\n",
       "</table>\n",
       "</div>"
      ],
      "text/plain": [
       "       Deaths1  Proportion\n",
       "Cause                     \n",
       "C349    426451    0.190419\n",
       "C509    155895    0.069610\n",
       "C189    143188    0.063936\n",
       "C169    125679    0.056118\n",
       "C259    120070    0.053614"
      ]
     },
     "execution_count": 43,
     "metadata": {},
     "output_type": "execute_result"
    }
   ],
   "source": [
    "Total_deaths_Italy = new_files.loc[(new_files['Country']==4180)]\n",
    "\n",
    "codelist = (Total_deaths_Italy.Cause > 'C00')&(Total_deaths_Italy.Cause < 'D48')\n",
    "new_causelist = Total_deaths_Italy[codelist].Cause.values\n",
    "##CH02\tC00-D48\tNEOPLASMS\n",
    "Italy_dneoplasms = Total_deaths_Italy.loc[Total_deaths_Italy.Cause.isin(new_causelist)]\n",
    "Italy_dneoplasms_groupby =Italy_dneoplasms.groupby('Cause').sum()\n",
    "\n",
    "# Generate a table with the cause of death, the number of deaths, and the proportion of overall deaths.\n",
    "\n",
    "Italy_dneoplasms_Deaths =pd.DataFrame(Italy_dneoplasms_groupby['Deaths1'])\n",
    "Italy_dneoplasms_SortedDeaths =Italy_dneoplasms_Deaths.sort_values('Deaths1', axis=0, ascending=False, kind='quicksort', na_position='last')\n",
    "Italy_dneoplasms_SortedDeaths.head()\n",
    "Italy_dneoplasms_SortedDeaths['Proportion'] =  Italy_dneoplasms_SortedDeaths['Deaths1'] / Italy_dneoplasms_SortedDeaths['Deaths1'].sum()\n",
    "Italy_dneoplasms_SortedDeaths.head()\n",
    "\n"
   ]
  },
  {
   "cell_type": "code",
   "execution_count": 44,
   "metadata": {},
   "outputs": [
    {
     "name": "stderr",
     "output_type": "stream",
     "text": [
      "/Users/charles/anaconda3/lib/python3.6/site-packages/ipykernel_launcher.py:6: SettingWithCopyWarning: \n",
      "A value is trying to be set on a copy of a slice from a DataFrame\n",
      "\n",
      "See the caveats in the documentation: http://pandas.pydata.org/pandas-docs/stable/indexing.html#indexing-view-versus-copy\n",
      "  \n"
     ]
    },
    {
     "data": {
      "image/png": "[encoded data removed]",
      "text/plain": [
       "<matplotlib.figure.Figure at 0x12614e240>"
      ]
     },
     "metadata": {},
     "output_type": "display_data"
    }
   ],
   "source": [
    "# Visualise top five diseases\n",
    "new_Italy_dneoplasms_SortedDeaths = Italy_dneoplasms_SortedDeaths[:5]\n",
    "\n",
    "#separate top five diseases and other diseases\n",
    "other_proportion =1-new_Italy_dneoplasms_SortedDeaths.Proportion.sum()\n",
    "new_Italy_dneoplasms_SortedDeaths.loc['others'] = other_proportion\n",
    "\n",
    "# Generate a pie chart to visualize the proportion of deaths.\n",
    "\n",
    "labels = 'Bronchus or lung, unspecified', 'Breast, unspecified', 'Colon, unspecified', 'Stomach, unspecified','Pancreas, unspecified','Others'\n",
    "explode = (0.1, 0, 0, 0, 0 ,0)\n",
    "colors = ['red', 'yellowgreen', 'lightcoral', 'lightskyblue','green','orange']\n",
    "\n",
    "titles=\"The proportion of diseases in Italy \"\n",
    "plot = new_Italy_dneoplasms_SortedDeaths.plot.pie(y='Proportion',explode=explode, figsize=(8, 8),labels =labels,shadow = True,colors=colors, autopct='%1.1f%%',title = titles)\n",
    "\n"
   ]
  },
  {
   "cell_type": "code",
   "execution_count": null,
   "metadata": {},
   "outputs": [],
   "source": []
  },
  {
   "cell_type": "code",
   "execution_count": null,
   "metadata": {},
   "outputs": [],
   "source": []
  },
  {
   "cell_type": "markdown",
   "metadata": {},
   "source": [
    "# 4. Are there differences by age group for deaths from Neoplasms (C00-D48) in Australia for 2010?"
   ]
  },
  {
   "cell_type": "code",
   "execution_count": 45,
   "metadata": {},
   "outputs": [
    {
     "data": {
      "text/html": [
       "<div>\n",
       "<style scoped>\n",
       "    .dataframe tbody tr th:only-of-type {\n",
       "        vertical-align: middle;\n",
       "    }\n",
       "\n",
       "    .dataframe tbody tr th {\n",
       "        vertical-align: top;\n",
       "    }\n",
       "\n",
       "    .dataframe thead th {\n",
       "        text-align: right;\n",
       "    }\n",
       "</style>\n",
       "<table border=\"1\" class=\"dataframe\">\n",
       "  <thead>\n",
       "    <tr style=\"text-align: right;\">\n",
       "      <th></th>\n",
       "      <th>Country</th>\n",
       "      <th>Admin1</th>\n",
       "      <th>SubDiv</th>\n",
       "      <th>Year</th>\n",
       "      <th>List</th>\n",
       "      <th>Cause</th>\n",
       "      <th>Sex</th>\n",
       "      <th>Frmat</th>\n",
       "      <th>IM_Frmat</th>\n",
       "      <th>Deaths1</th>\n",
       "      <th>...</th>\n",
       "      <th>Deaths21</th>\n",
       "      <th>Deaths22</th>\n",
       "      <th>Deaths23</th>\n",
       "      <th>Deaths24</th>\n",
       "      <th>Deaths25</th>\n",
       "      <th>Deaths26</th>\n",
       "      <th>IM_Deaths1</th>\n",
       "      <th>IM_Deaths2</th>\n",
       "      <th>IM_Deaths3</th>\n",
       "      <th>IM_Deaths4</th>\n",
       "    </tr>\n",
       "  </thead>\n",
       "  <tbody>\n",
       "    <tr>\n",
       "      <th>2144494</th>\n",
       "      <td>5020</td>\n",
       "      <td>NaN</td>\n",
       "      <td>NaN</td>\n",
       "      <td>2010</td>\n",
       "      <td>104</td>\n",
       "      <td>C001</td>\n",
       "      <td>1</td>\n",
       "      <td>0</td>\n",
       "      <td>1</td>\n",
       "      <td>2</td>\n",
       "      <td>...</td>\n",
       "      <td>0.0</td>\n",
       "      <td>1.0</td>\n",
       "      <td>0.0</td>\n",
       "      <td>0.0</td>\n",
       "      <td>0.0</td>\n",
       "      <td>0.0</td>\n",
       "      <td>0.0</td>\n",
       "      <td>0.0</td>\n",
       "      <td>0.0</td>\n",
       "      <td>0.0</td>\n",
       "    </tr>\n",
       "    <tr>\n",
       "      <th>2144495</th>\n",
       "      <td>5020</td>\n",
       "      <td>NaN</td>\n",
       "      <td>NaN</td>\n",
       "      <td>2010</td>\n",
       "      <td>104</td>\n",
       "      <td>C001</td>\n",
       "      <td>2</td>\n",
       "      <td>0</td>\n",
       "      <td>1</td>\n",
       "      <td>2</td>\n",
       "      <td>...</td>\n",
       "      <td>0.0</td>\n",
       "      <td>1.0</td>\n",
       "      <td>0.0</td>\n",
       "      <td>0.0</td>\n",
       "      <td>0.0</td>\n",
       "      <td>0.0</td>\n",
       "      <td>0.0</td>\n",
       "      <td>0.0</td>\n",
       "      <td>0.0</td>\n",
       "      <td>0.0</td>\n",
       "    </tr>\n",
       "    <tr>\n",
       "      <th>2144496</th>\n",
       "      <td>5020</td>\n",
       "      <td>NaN</td>\n",
       "      <td>NaN</td>\n",
       "      <td>2010</td>\n",
       "      <td>104</td>\n",
       "      <td>C009</td>\n",
       "      <td>1</td>\n",
       "      <td>0</td>\n",
       "      <td>1</td>\n",
       "      <td>2</td>\n",
       "      <td>...</td>\n",
       "      <td>0.0</td>\n",
       "      <td>1.0</td>\n",
       "      <td>0.0</td>\n",
       "      <td>0.0</td>\n",
       "      <td>0.0</td>\n",
       "      <td>0.0</td>\n",
       "      <td>0.0</td>\n",
       "      <td>0.0</td>\n",
       "      <td>0.0</td>\n",
       "      <td>0.0</td>\n",
       "    </tr>\n",
       "    <tr>\n",
       "      <th>2144497</th>\n",
       "      <td>5020</td>\n",
       "      <td>NaN</td>\n",
       "      <td>NaN</td>\n",
       "      <td>2010</td>\n",
       "      <td>104</td>\n",
       "      <td>C009</td>\n",
       "      <td>2</td>\n",
       "      <td>0</td>\n",
       "      <td>1</td>\n",
       "      <td>5</td>\n",
       "      <td>...</td>\n",
       "      <td>2.0</td>\n",
       "      <td>0.0</td>\n",
       "      <td>0.0</td>\n",
       "      <td>1.0</td>\n",
       "      <td>1.0</td>\n",
       "      <td>0.0</td>\n",
       "      <td>0.0</td>\n",
       "      <td>0.0</td>\n",
       "      <td>0.0</td>\n",
       "      <td>0.0</td>\n",
       "    </tr>\n",
       "    <tr>\n",
       "      <th>2144498</th>\n",
       "      <td>5020</td>\n",
       "      <td>NaN</td>\n",
       "      <td>NaN</td>\n",
       "      <td>2010</td>\n",
       "      <td>104</td>\n",
       "      <td>C01</td>\n",
       "      <td>1</td>\n",
       "      <td>0</td>\n",
       "      <td>1</td>\n",
       "      <td>20</td>\n",
       "      <td>...</td>\n",
       "      <td>3.0</td>\n",
       "      <td>0.0</td>\n",
       "      <td>0.0</td>\n",
       "      <td>0.0</td>\n",
       "      <td>0.0</td>\n",
       "      <td>0.0</td>\n",
       "      <td>0.0</td>\n",
       "      <td>0.0</td>\n",
       "      <td>0.0</td>\n",
       "      <td>0.0</td>\n",
       "    </tr>\n",
       "  </tbody>\n",
       "</table>\n",
       "<p>5 rows × 39 columns</p>\n",
       "</div>"
      ],
      "text/plain": [
       "         Country  Admin1 SubDiv  Year List Cause  Sex  Frmat  IM_Frmat  \\\n",
       "2144494     5020     NaN    NaN  2010  104  C001    1      0         1   \n",
       "2144495     5020     NaN    NaN  2010  104  C001    2      0         1   \n",
       "2144496     5020     NaN    NaN  2010  104  C009    1      0         1   \n",
       "2144497     5020     NaN    NaN  2010  104  C009    2      0         1   \n",
       "2144498     5020     NaN    NaN  2010  104   C01    1      0         1   \n",
       "\n",
       "         Deaths1     ...      Deaths21  Deaths22  Deaths23  Deaths24  \\\n",
       "2144494        2     ...           0.0       1.0       0.0       0.0   \n",
       "2144495        2     ...           0.0       1.0       0.0       0.0   \n",
       "2144496        2     ...           0.0       1.0       0.0       0.0   \n",
       "2144497        5     ...           2.0       0.0       0.0       1.0   \n",
       "2144498       20     ...           3.0       0.0       0.0       0.0   \n",
       "\n",
       "         Deaths25  Deaths26  IM_Deaths1  IM_Deaths2  IM_Deaths3  IM_Deaths4  \n",
       "2144494       0.0       0.0         0.0         0.0         0.0         0.0  \n",
       "2144495       0.0       0.0         0.0         0.0         0.0         0.0  \n",
       "2144496       0.0       0.0         0.0         0.0         0.0         0.0  \n",
       "2144497       1.0       0.0         0.0         0.0         0.0         0.0  \n",
       "2144498       0.0       0.0         0.0         0.0         0.0         0.0  \n",
       "\n",
       "[5 rows x 39 columns]"
      ]
     },
     "execution_count": 45,
     "metadata": {},
     "output_type": "execute_result"
    }
   ],
   "source": [
    "#Total number of deaths from Neoplasms Australia for 2010\n",
    "Total_deaths_Australia = new_files.loc[(new_files['Country']==5020)&(new_files['Year']==2010)]\n",
    "Australia_dneoplasms = Total_deaths_Australia.loc[Total_deaths_Australia.Cause.isin(new_causelist)]\n",
    "Australia_dneoplasms.head()"
   ]
  },
  {
   "cell_type": "code",
   "execution_count": 46,
   "metadata": {},
   "outputs": [
    {
     "data": {
      "text/plain": [
       "20    80-84\n",
       "19    75-79\n",
       "18    70-74\n",
       "21    85-89\n",
       "17    65-69\n",
       "Name: all_age, dtype: object"
      ]
     },
     "execution_count": 46,
     "metadata": {},
     "output_type": "execute_result"
    }
   ],
   "source": [
    "list3 = []\n",
    "for i in age_group:\n",
    "    list3.append(Australia_dneoplasms[i].sum())\n",
    "    \n",
    "Australia_dneoplasms_Death_age = zip(Death_age,list3)\n",
    "data_dict2 = dict(Australia_dneoplasms_Death_age)\n",
    "\n",
    "Dneoplasms_Deaths_Australia = pd.DataFrame(list(data_dict2.items()), columns=['all_age', 'Deaths'])\n",
    "\n",
    "Sorted_Dneoplasms_Deaths_Australia = Dneoplasms_Deaths_Australia.sort_values('Deaths',axis=0, ascending=False, kind='quicksort', na_position='last')\n",
    "Sorted_Dneoplasms_Deaths_Australia.all_age.head(5)"
   ]
  },
  {
   "cell_type": "markdown",
   "metadata": {},
   "source": [
    "# 5. Compare and contrast the frequency of deaths by Neoplasms in Italy and Australia in 2010."
   ]
  },
  {
   "cell_type": "code",
   "execution_count": 47,
   "metadata": {},
   "outputs": [
    {
     "data": {
      "text/plain": [
       "60483386.0"
      ]
     },
     "execution_count": 47,
     "metadata": {},
     "output_type": "execute_result"
    }
   ],
   "source": [
    "# Combine information on the population and deaths and describe your logic. \n",
    "#total population of Italy \n",
    "pop_Italy_2010 =pop.loc[(pop['Country']==4180)&(pop['Year']==2010)].Pop1.sum()\n",
    "pop_Italy_2010"
   ]
  },
  {
   "cell_type": "code",
   "execution_count": 48,
   "metadata": {},
   "outputs": [
    {
     "data": {
      "text/plain": [
       "22297515.0"
      ]
     },
     "execution_count": 48,
     "metadata": {},
     "output_type": "execute_result"
    }
   ],
   "source": [
    "pop_Australia_2010 =pop.loc[(pop['Country']==5020)&(pop['Year']==2010)].Pop1.sum()\n",
    "pop_Australia_2010"
   ]
  },
  {
   "cell_type": "code",
   "execution_count": 49,
   "metadata": {},
   "outputs": [
    {
     "data": {
      "text/html": [
       "<div>\n",
       "<style scoped>\n",
       "    .dataframe tbody tr th:only-of-type {\n",
       "        vertical-align: middle;\n",
       "    }\n",
       "\n",
       "    .dataframe tbody tr th {\n",
       "        vertical-align: top;\n",
       "    }\n",
       "\n",
       "    .dataframe thead th {\n",
       "        text-align: right;\n",
       "    }\n",
       "</style>\n",
       "<table border=\"1\" class=\"dataframe\">\n",
       "  <thead>\n",
       "    <tr style=\"text-align: right;\">\n",
       "      <th></th>\n",
       "      <th>It_Deaths</th>\n",
       "      <th>It_frequency_per100000</th>\n",
       "    </tr>\n",
       "    <tr>\n",
       "      <th>Cause</th>\n",
       "      <th></th>\n",
       "      <th></th>\n",
       "    </tr>\n",
       "  </thead>\n",
       "  <tbody>\n",
       "    <tr>\n",
       "      <th>C000</th>\n",
       "      <td>7</td>\n",
       "      <td>0.011573</td>\n",
       "    </tr>\n",
       "    <tr>\n",
       "      <th>C001</th>\n",
       "      <td>27</td>\n",
       "      <td>0.044640</td>\n",
       "    </tr>\n",
       "    <tr>\n",
       "      <th>C006</th>\n",
       "      <td>1</td>\n",
       "      <td>0.001653</td>\n",
       "    </tr>\n",
       "    <tr>\n",
       "      <th>C009</th>\n",
       "      <td>31</td>\n",
       "      <td>0.051254</td>\n",
       "    </tr>\n",
       "    <tr>\n",
       "      <th>C01</th>\n",
       "      <td>95</td>\n",
       "      <td>0.157068</td>\n",
       "    </tr>\n",
       "  </tbody>\n",
       "</table>\n",
       "</div>"
      ],
      "text/plain": [
       "       It_Deaths  It_frequency_per100000\n",
       "Cause                                   \n",
       "C000           7                0.011573\n",
       "C001          27                0.044640\n",
       "C006           1                0.001653\n",
       "C009          31                0.051254\n",
       "C01           95                0.157068"
      ]
     },
     "execution_count": 49,
     "metadata": {},
     "output_type": "execute_result"
    }
   ],
   "source": [
    "#Total number of deaths from Neoplasms Italy for 2010\n",
    "\n",
    "Total_deaths_Italy = new_files.loc[(new_files['Country']==4180)&(new_files['Year']==2010)]\n",
    "Italy_dneoplasms = Total_deaths_Italy.loc[Total_deaths_Italy.Cause.isin(new_causelist)]\n",
    "Italy_dneoplasms_groupby = Italy_dneoplasms.groupby('Cause').sum()\n",
    "Italy_dneoplasms = pd.DataFrame(Italy_dneoplasms_groupby.Deaths1)\n",
    "Italy_dneoplasms['It_frequency_per1000000'] = Italy_dneoplasms.Deaths1*100000/pop_Italy_2010\n",
    "Italy_dneoplasms.columns=['It_Deaths', 'It_frequency_per100000']\n",
    "Italy_dneoplasms.head()"
   ]
  },
  {
   "cell_type": "code",
   "execution_count": 50,
   "metadata": {},
   "outputs": [
    {
     "data": {
      "text/html": [
       "<div>\n",
       "<style scoped>\n",
       "    .dataframe tbody tr th:only-of-type {\n",
       "        vertical-align: middle;\n",
       "    }\n",
       "\n",
       "    .dataframe tbody tr th {\n",
       "        vertical-align: top;\n",
       "    }\n",
       "\n",
       "    .dataframe thead th {\n",
       "        text-align: right;\n",
       "    }\n",
       "</style>\n",
       "<table border=\"1\" class=\"dataframe\">\n",
       "  <thead>\n",
       "    <tr style=\"text-align: right;\">\n",
       "      <th></th>\n",
       "      <th>Au_Deaths</th>\n",
       "      <th>Au_frequency_per100000</th>\n",
       "    </tr>\n",
       "    <tr>\n",
       "      <th>Cause</th>\n",
       "      <th></th>\n",
       "      <th></th>\n",
       "    </tr>\n",
       "  </thead>\n",
       "  <tbody>\n",
       "    <tr>\n",
       "      <th>C001</th>\n",
       "      <td>4</td>\n",
       "      <td>0.017939</td>\n",
       "    </tr>\n",
       "    <tr>\n",
       "      <th>C009</th>\n",
       "      <td>7</td>\n",
       "      <td>0.031394</td>\n",
       "    </tr>\n",
       "    <tr>\n",
       "      <th>C01</th>\n",
       "      <td>27</td>\n",
       "      <td>0.121090</td>\n",
       "    </tr>\n",
       "    <tr>\n",
       "      <th>C020</th>\n",
       "      <td>1</td>\n",
       "      <td>0.004485</td>\n",
       "    </tr>\n",
       "    <tr>\n",
       "      <th>C028</th>\n",
       "      <td>2</td>\n",
       "      <td>0.008970</td>\n",
       "    </tr>\n",
       "  </tbody>\n",
       "</table>\n",
       "</div>"
      ],
      "text/plain": [
       "       Au_Deaths  Au_frequency_per100000\n",
       "Cause                                   \n",
       "C001           4                0.017939\n",
       "C009           7                0.031394\n",
       "C01           27                0.121090\n",
       "C020           1                0.004485\n",
       "C028           2                0.008970"
      ]
     },
     "execution_count": 50,
     "metadata": {},
     "output_type": "execute_result"
    }
   ],
   "source": [
    "#Total number of deaths from Neoplasms Australia for 2010\n",
    "\n",
    "Total_deaths_Australia = new_files.loc[(new_files['Country']==5020)&(new_files['Year']==2010)]\n",
    "Australia_dneoplasms = Total_deaths_Australia.loc[Total_deaths_Australia.Cause.isin(new_causelist)]\n",
    "Australia_dneoplasms_groupby = Australia_dneoplasms.groupby('Cause').sum()\n",
    "Australia_dneoplasms = pd.DataFrame(Australia_dneoplasms_groupby.Deaths1)\n",
    "Australia_dneoplasms['Au_frequency_per100000'] = Australia_dneoplasms.Deaths1*100000/pop_Australia_2010\n",
    "Australia_dneoplasms.columns=['Au_Deaths', 'Au_frequency_per100000']\n",
    "Australia_dneoplasms.head()"
   ]
  },
  {
   "cell_type": "code",
   "execution_count": 51,
   "metadata": {},
   "outputs": [
    {
     "data": {
      "text/plain": [
       "43275"
      ]
     },
     "execution_count": 51,
     "metadata": {},
     "output_type": "execute_result"
    }
   ],
   "source": [
    "Australia_dneoplasms['Au_Deaths'].sum()"
   ]
  },
  {
   "cell_type": "code",
   "execution_count": 52,
   "metadata": {},
   "outputs": [
    {
     "data": {
      "text/html": [
       "<div>\n",
       "<style scoped>\n",
       "    .dataframe tbody tr th:only-of-type {\n",
       "        vertical-align: middle;\n",
       "    }\n",
       "\n",
       "    .dataframe tbody tr th {\n",
       "        vertical-align: top;\n",
       "    }\n",
       "\n",
       "    .dataframe thead th {\n",
       "        text-align: right;\n",
       "    }\n",
       "</style>\n",
       "<table border=\"1\" class=\"dataframe\">\n",
       "  <thead>\n",
       "    <tr style=\"text-align: right;\">\n",
       "      <th></th>\n",
       "      <th>It_Deaths</th>\n",
       "      <th>It_frequency_per100000</th>\n",
       "      <th>Au_Deaths</th>\n",
       "      <th>Au_frequency_per100000</th>\n",
       "    </tr>\n",
       "    <tr>\n",
       "      <th>Cause</th>\n",
       "      <th></th>\n",
       "      <th></th>\n",
       "      <th></th>\n",
       "      <th></th>\n",
       "    </tr>\n",
       "  </thead>\n",
       "  <tbody>\n",
       "    <tr>\n",
       "      <th>C000</th>\n",
       "      <td>7.0</td>\n",
       "      <td>0.011573</td>\n",
       "      <td>NaN</td>\n",
       "      <td>NaN</td>\n",
       "    </tr>\n",
       "    <tr>\n",
       "      <th>C001</th>\n",
       "      <td>27.0</td>\n",
       "      <td>0.044640</td>\n",
       "      <td>4.0</td>\n",
       "      <td>0.017939</td>\n",
       "    </tr>\n",
       "    <tr>\n",
       "      <th>C006</th>\n",
       "      <td>1.0</td>\n",
       "      <td>0.001653</td>\n",
       "      <td>NaN</td>\n",
       "      <td>NaN</td>\n",
       "    </tr>\n",
       "    <tr>\n",
       "      <th>C009</th>\n",
       "      <td>31.0</td>\n",
       "      <td>0.051254</td>\n",
       "      <td>7.0</td>\n",
       "      <td>0.031394</td>\n",
       "    </tr>\n",
       "    <tr>\n",
       "      <th>C01</th>\n",
       "      <td>95.0</td>\n",
       "      <td>0.157068</td>\n",
       "      <td>27.0</td>\n",
       "      <td>0.121090</td>\n",
       "    </tr>\n",
       "  </tbody>\n",
       "</table>\n",
       "</div>"
      ],
      "text/plain": [
       "       It_Deaths  It_frequency_per100000  Au_Deaths  Au_frequency_per100000\n",
       "Cause                                                                      \n",
       "C000         7.0                0.011573        NaN                     NaN\n",
       "C001        27.0                0.044640        4.0                0.017939\n",
       "C006         1.0                0.001653        NaN                     NaN\n",
       "C009        31.0                0.051254        7.0                0.031394\n",
       "C01         95.0                0.157068       27.0                0.121090"
      ]
     },
     "execution_count": 52,
     "metadata": {},
     "output_type": "execute_result"
    }
   ],
   "source": [
    "\n",
    "Deaths_compare =Italy_dneoplasms.join(Australia_dneoplasms,how = 'outer')\n",
    "Deaths_compare.head()"
   ]
  },
  {
   "cell_type": "code",
   "execution_count": 53,
   "metadata": {},
   "outputs": [
    {
     "data": {
      "text/html": [
       "<div>\n",
       "<style scoped>\n",
       "    .dataframe tbody tr th:only-of-type {\n",
       "        vertical-align: middle;\n",
       "    }\n",
       "\n",
       "    .dataframe tbody tr th {\n",
       "        vertical-align: top;\n",
       "    }\n",
       "\n",
       "    .dataframe thead th {\n",
       "        text-align: right;\n",
       "    }\n",
       "</style>\n",
       "<table border=\"1\" class=\"dataframe\">\n",
       "  <thead>\n",
       "    <tr style=\"text-align: right;\">\n",
       "      <th></th>\n",
       "      <th>It_Deaths</th>\n",
       "      <th>It_frequency_per100000</th>\n",
       "      <th>Au_Deaths</th>\n",
       "      <th>Au_frequency_per100000</th>\n",
       "    </tr>\n",
       "    <tr>\n",
       "      <th>Cause</th>\n",
       "      <th></th>\n",
       "      <th></th>\n",
       "      <th></th>\n",
       "      <th></th>\n",
       "    </tr>\n",
       "  </thead>\n",
       "  <tbody>\n",
       "    <tr>\n",
       "      <th>C349</th>\n",
       "      <td>33416.0</td>\n",
       "      <td>55.248230</td>\n",
       "      <td>7989.0</td>\n",
       "      <td>35.829105</td>\n",
       "    </tr>\n",
       "    <tr>\n",
       "      <th>C61</th>\n",
       "      <td>7509.0</td>\n",
       "      <td>12.414980</td>\n",
       "      <td>3236.0</td>\n",
       "      <td>14.512828</td>\n",
       "    </tr>\n",
       "    <tr>\n",
       "      <th>C509</th>\n",
       "      <td>12231.0</td>\n",
       "      <td>20.222082</td>\n",
       "      <td>2865.0</td>\n",
       "      <td>12.848965</td>\n",
       "    </tr>\n",
       "    <tr>\n",
       "      <th>C809</th>\n",
       "      <td>8036.0</td>\n",
       "      <td>13.286293</td>\n",
       "      <td>2783.0</td>\n",
       "      <td>12.481211</td>\n",
       "    </tr>\n",
       "    <tr>\n",
       "      <th>C259</th>\n",
       "      <td>9683.0</td>\n",
       "      <td>16.009355</td>\n",
       "      <td>2367.0</td>\n",
       "      <td>10.615533</td>\n",
       "    </tr>\n",
       "  </tbody>\n",
       "</table>\n",
       "</div>"
      ],
      "text/plain": [
       "       It_Deaths  It_frequency_per100000  Au_Deaths  Au_frequency_per100000\n",
       "Cause                                                                      \n",
       "C349     33416.0               55.248230     7989.0               35.829105\n",
       "C61       7509.0               12.414980     3236.0               14.512828\n",
       "C509     12231.0               20.222082     2865.0               12.848965\n",
       "C809      8036.0               13.286293     2783.0               12.481211\n",
       "C259      9683.0               16.009355     2367.0               10.615533"
      ]
     },
     "execution_count": 53,
     "metadata": {},
     "output_type": "execute_result"
    }
   ],
   "source": [
    "Au_Sorted_death_compare = Deaths_compare.sort_values('Au_frequency_per100000',ascending=False)\n",
    "Au_Sorted_death_compare_Top5 =Au_Sorted_death_compare[:5]\n",
    "Au_Sorted_death_compare_Top5"
   ]
  },
  {
   "cell_type": "code",
   "execution_count": 54,
   "metadata": {},
   "outputs": [
    {
     "data": {
      "image/png": "[encoded data removed]",
      "text/plain": [
       "<matplotlib.figure.Figure at 0x11ba90f60>"
      ]
     },
     "metadata": {},
     "output_type": "display_data"
    }
   ],
   "source": [
    "#Compare top five Neoplasms of Australia deaths frequency per 10000 with Italy\n",
    "\n",
    "Au_Top5 = Au_Sorted_death_compare_Top5.Au_frequency_per100000\n",
    "Au_au_Top5 =list(Au_Top5.values)\n",
    "It_Top5 = Au_Sorted_death_compare_Top5.It_frequency_per100000\n",
    "It_au_top5 =list(It_Top5.values)\n",
    "\n",
    "# data to plot\n",
    "n_groups = 5\n",
    "\n",
    "# create plot\n",
    "fig, ax = plt.subplots(figsize =(8,8))\n",
    "index = np.arange(n_groups)\n",
    "bar_width = 0.35\n",
    "opacity = 0.8\n",
    "\n",
    "rects1 = plt.bar(index, It_au_top5, bar_width,\n",
    "                 alpha=opacity,\n",
    "                 color='b',\n",
    "                 label='Italy')\n",
    " \n",
    "rects2 = plt.bar(index + bar_width, Au_au_Top5, bar_width,\n",
    "                 alpha=opacity,\n",
    "                 color='g',\n",
    "                 label='Australia')\n",
    " \n",
    "plt.xlabel('Top five diseases of Australia')\n",
    "plt.ylabel('Frequency_per100000')\n",
    "plt.title('Top five diseases of Australia compare to Italy')\n",
    "plt.xticks(index + bar_width, ('Bronchus or lung', 'Malignant neoplasm prostate', 'Breast', 'without specification of site','Pancreas'),rotation=65)\n",
    "plt.legend()\n",
    "plt.tight_layout()\n",
    "plt.show()"
   ]
  },
  {
   "cell_type": "code",
   "execution_count": null,
   "metadata": {},
   "outputs": [],
   "source": []
  },
  {
   "cell_type": "code",
   "execution_count": null,
   "metadata": {},
   "outputs": [],
   "source": []
  },
  {
   "cell_type": "code",
   "execution_count": 55,
   "metadata": {},
   "outputs": [
    {
     "data": {
      "text/html": [
       "<div>\n",
       "<style scoped>\n",
       "    .dataframe tbody tr th:only-of-type {\n",
       "        vertical-align: middle;\n",
       "    }\n",
       "\n",
       "    .dataframe tbody tr th {\n",
       "        vertical-align: top;\n",
       "    }\n",
       "\n",
       "    .dataframe thead th {\n",
       "        text-align: right;\n",
       "    }\n",
       "</style>\n",
       "<table border=\"1\" class=\"dataframe\">\n",
       "  <thead>\n",
       "    <tr style=\"text-align: right;\">\n",
       "      <th></th>\n",
       "      <th>It_Deaths</th>\n",
       "      <th>It_frequency_per100000</th>\n",
       "      <th>Au_Deaths</th>\n",
       "      <th>Au_frequency_per100000</th>\n",
       "    </tr>\n",
       "    <tr>\n",
       "      <th>Cause</th>\n",
       "      <th></th>\n",
       "      <th></th>\n",
       "      <th></th>\n",
       "      <th></th>\n",
       "    </tr>\n",
       "  </thead>\n",
       "  <tbody>\n",
       "    <tr>\n",
       "      <th>C349</th>\n",
       "      <td>33416.0</td>\n",
       "      <td>55.248230</td>\n",
       "      <td>7989.0</td>\n",
       "      <td>35.829105</td>\n",
       "    </tr>\n",
       "    <tr>\n",
       "      <th>C509</th>\n",
       "      <td>12231.0</td>\n",
       "      <td>20.222082</td>\n",
       "      <td>2865.0</td>\n",
       "      <td>12.848965</td>\n",
       "    </tr>\n",
       "    <tr>\n",
       "      <th>C189</th>\n",
       "      <td>11638.0</td>\n",
       "      <td>19.241648</td>\n",
       "      <td>1738.0</td>\n",
       "      <td>7.794591</td>\n",
       "    </tr>\n",
       "    <tr>\n",
       "      <th>C259</th>\n",
       "      <td>9683.0</td>\n",
       "      <td>16.009355</td>\n",
       "      <td>2367.0</td>\n",
       "      <td>10.615533</td>\n",
       "    </tr>\n",
       "    <tr>\n",
       "      <th>C169</th>\n",
       "      <td>9523.0</td>\n",
       "      <td>15.744820</td>\n",
       "      <td>1004.0</td>\n",
       "      <td>4.502744</td>\n",
       "    </tr>\n",
       "  </tbody>\n",
       "</table>\n",
       "</div>"
      ],
      "text/plain": [
       "       It_Deaths  It_frequency_per100000  Au_Deaths  Au_frequency_per100000\n",
       "Cause                                                                      \n",
       "C349     33416.0               55.248230     7989.0               35.829105\n",
       "C509     12231.0               20.222082     2865.0               12.848965\n",
       "C189     11638.0               19.241648     1738.0                7.794591\n",
       "C259      9683.0               16.009355     2367.0               10.615533\n",
       "C169      9523.0               15.744820     1004.0                4.502744"
      ]
     },
     "execution_count": 55,
     "metadata": {},
     "output_type": "execute_result"
    }
   ],
   "source": [
    "#Compare top five Neoplasms of Italy deaths frequency per 10000 with Australia\n",
    "\n",
    "It_Sorted_death_compare = Deaths_compare.sort_values('It_frequency_per100000',ascending=False)\n",
    "It_Sorted_death_compare_Top5 =It_Sorted_death_compare[:5]\n",
    "It_Sorted_death_compare_Top5"
   ]
  },
  {
   "cell_type": "code",
   "execution_count": 56,
   "metadata": {},
   "outputs": [
    {
     "data": {
      "image/png": "[encoded data removed]",
      "text/plain": [
       "<matplotlib.figure.Figure at 0x11c567dd8>"
      ]
     },
     "metadata": {},
     "output_type": "display_data"
    }
   ],
   "source": [
    "#Compare top five Neoplasms of Italy deaths frequency per 10000 with Australia\n",
    "\n",
    "Au_Top5 = It_Sorted_death_compare_Top5.Au_frequency_per100000\n",
    "Au_it_Top5 =list(Au_Top5.values)\n",
    "It_Top5 = It_Sorted_death_compare_Top5.It_frequency_per100000\n",
    "It_it_Top5 =list(It_Top5.values)\n",
    "\n",
    "# data to plot\n",
    "n_groups = 5\n",
    "\n",
    "# create plot\n",
    "fig, ax = plt.subplots(figsize =(8,8))\n",
    "index = np.arange(n_groups)\n",
    "bar_width = 0.35\n",
    "opacity = 0.8\n",
    "\n",
    "rects1 = plt.bar(index, Au_it_Top5, bar_width,\n",
    "                 alpha=opacity,\n",
    "                 color='b',\n",
    "                 label='Australia')\n",
    " \n",
    "rects2 = plt.bar(index + bar_width, It_it_Top5, bar_width,\n",
    "                 alpha=opacity,\n",
    "                 color='g',\n",
    "                 label='Italy')\n",
    " \n",
    "plt.xlabel('Top five diseases of Italy')\n",
    "plt.ylabel('Frequency_per100000')\n",
    "plt.title('Top five diseases of Italy compare to Australia')\n",
    "plt.xticks(index + bar_width, ('Bronchus or lung', 'Breast', 'Colon', 'Pancreas','Stomach'),rotation=65)\n",
    "plt.legend()\n",
    "plt.tight_layout()\n",
    "plt.show()"
   ]
  },
  {
   "cell_type": "code",
   "execution_count": null,
   "metadata": {},
   "outputs": [],
   "source": []
  },
  {
   "cell_type": "code",
   "execution_count": null,
   "metadata": {},
   "outputs": [],
   "source": []
  },
  {
   "cell_type": "code",
   "execution_count": null,
   "metadata": {},
   "outputs": [],
   "source": []
  },
  {
   "cell_type": "code",
   "execution_count": null,
   "metadata": {},
   "outputs": [],
   "source": []
  }
 ],
 "metadata": {
  "kernelspec": {
   "display_name": "Python 3",
   "language": "python",
   "name": "python3"
  },
  "language_info": {
   "codemirror_mode": {
    "name": "ipython",
    "version": 3
   },
   "file_extension": ".py",
   "mimetype": "text/x-python",
   "name": "python",
   "nbconvert_exporter": "python",
   "pygments_lexer": "ipython3",
   "version": "3.6.4"
  }
 },
 "nbformat": 4,
 "nbformat_minor": 2
}
